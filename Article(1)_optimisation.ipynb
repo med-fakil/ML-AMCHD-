{
  "nbformat": 4,
  "nbformat_minor": 0,
  "metadata": {
    "colab": {
      "provenance": []
    },
    "kernelspec": {
      "name": "python3",
      "display_name": "Python 3"
    },
    "language_info": {
      "name": "python"
    },
    "accelerator": "GPU",
    "gpuClass": "standard"
  },
  "cells": [
    {
      "cell_type": "code",
      "source": [
        "import pathlib\n",
        "import os\n",
        "\n",
        "import cv2\n",
        "import numpy as np\n",
        "import requests\n",
        "import matplotlib.pyplot as plt\n",
        "import matplotlib.image as mpimg\n",
        "import sys\n",
        "import datetime\n",
        "from tensorflow import keras\n",
        "from tensorflow.keras.models import Model\n",
        "import tensorflow as tf\n",
        "from tensorflow.keras import layers\n"
      ],
      "metadata": {
        "id": "TVs7r_ksVLWi"
      },
      "execution_count": 2,
      "outputs": []
    },
    {
      "cell_type": "code",
      "source": [
        "from google.colab import drive\n",
        "drive.mount('/content/drive')"
      ],
      "metadata": {
        "colab": {
          "base_uri": "https://localhost:8080/"
        },
        "id": "R6tv1rZ0VMUU",
        "outputId": "49c1f21b-e6b7-4159-e946-dff24b989d09"
      },
      "execution_count": 3,
      "outputs": [
        {
          "output_type": "stream",
          "name": "stdout",
          "text": [
            "Drive already mounted at /content/drive; to attempt to forcibly remount, call drive.mount(\"/content/drive\", force_remount=True).\n"
          ]
        }
      ]
    },
    {
      "cell_type": "code",
      "source": [
        "data_dir = '/content/drive/MyDrive/archive.zip'\n",
        "import zipfile\n",
        "with zipfile.ZipFile(data_dir, 'r') as zip_ref:\n",
        "    zip_ref.extractall('/content/datasets')"
      ],
      "metadata": {
        "id": "Py5xPuiIVMY_"
      },
      "execution_count": 4,
      "outputs": []
    },
    {
      "cell_type": "code",
      "source": [
        "data_dir = pathlib.Path('/content/datasets/AMHCD_64/AMHCD_64')\n",
        "print(\"Le répertoire de données : {} \".format(data_dir))"
      ],
      "metadata": {
        "colab": {
          "base_uri": "https://localhost:8080/"
        },
        "id": "33WdJz-RVMc6",
        "outputId": "dcae967a-b0aa-4e5c-e0dd-d35e2c4a2d10"
      },
      "execution_count": 5,
      "outputs": [
        {
          "output_type": "stream",
          "name": "stdout",
          "text": [
            "Le répertoire de données : /content/datasets/AMHCD_64/AMHCD_64 \n"
          ]
        }
      ]
    },
    {
      "cell_type": "code",
      "source": [
        "pip install split-folders"
      ],
      "metadata": {
        "colab": {
          "base_uri": "https://localhost:8080/"
        },
        "id": "K1uS0CgqodIq",
        "outputId": "9804a0ad-cff9-4ca3-bec1-7059997fe97d"
      },
      "execution_count": 6,
      "outputs": [
        {
          "output_type": "stream",
          "name": "stdout",
          "text": [
            "Looking in indexes: https://pypi.org/simple, https://us-python.pkg.dev/colab-wheels/public/simple/\n",
            "Requirement already satisfied: split-folders in /usr/local/lib/python3.8/dist-packages (0.5.1)\n"
          ]
        }
      ]
    },
    {
      "cell_type": "code",
      "source": [
        "import splitfolders\n",
        "splitfolders.ratio(data_dir, output=\"output\", seed=1337, ratio=(.8, 0.1,0.1)) "
      ],
      "metadata": {
        "colab": {
          "base_uri": "https://localhost:8080/"
        },
        "id": "ONzGbL8rofq4",
        "outputId": "c7c2fbf2-d52d-4772-864b-dba296f1ea39"
      },
      "execution_count": 7,
      "outputs": [
        {
          "output_type": "stream",
          "name": "stderr",
          "text": [
            "Copying files: 25740 files [00:04, 5960.49 files/s]\n"
          ]
        }
      ]
    },
    {
      "cell_type": "code",
      "source": [
        "#Taille des images\n",
        "img_height = 32\n",
        "img_width = 32"
      ],
      "metadata": {
        "id": "EoH5QRJoVMhB"
      },
      "execution_count": 8,
      "outputs": []
    },
    {
      "cell_type": "code",
      "source": [
        "# train_data est un objet tensor, chaque élement est un tuple (image,label) \n",
        "train_data = tf.keras.preprocessing.image_dataset_from_directory(\n",
        "  \"/content/output/train\",\n",
        "  image_size=(img_height, img_width),\n",
        "  #batch_size=1,\n",
        "  )\n"
      ],
      "metadata": {
        "colab": {
          "base_uri": "https://localhost:8080/"
        },
        "id": "x1fXr-wWVMkH",
        "outputId": "fe701ca3-e02b-41b9-f799-c9bae5f90434"
      },
      "execution_count": 9,
      "outputs": [
        {
          "output_type": "stream",
          "name": "stdout",
          "text": [
            "Found 20592 files belonging to 33 classes.\n"
          ]
        }
      ]
    },
    {
      "cell_type": "code",
      "source": [
        "# val_data est un objet tensor, chaque élement est un tuple (image,label) \n",
        "val_data = tf.keras.preprocessing.image_dataset_from_directory(\n",
        "  \"/content/output/val\",\n",
        "  image_size=(img_height, img_width),\n",
        "  #batch_size=batch_size,\n",
        "  )"
      ],
      "metadata": {
        "colab": {
          "base_uri": "https://localhost:8080/"
        },
        "id": "gCLMTGo8VduZ",
        "outputId": "0fd8a635-caf2-4de2-b040-56c7564028b6"
      },
      "execution_count": 10,
      "outputs": [
        {
          "output_type": "stream",
          "name": "stdout",
          "text": [
            "Found 2574 files belonging to 33 classes.\n"
          ]
        }
      ]
    },
    {
      "cell_type": "code",
      "source": [
        "# val_data est un objet tensor, chaque élement est un tuple (image,label) \n",
        "test_data = tf.keras.preprocessing.image_dataset_from_directory(\n",
        "  \"/content/output/test\",\n",
        "  image_size=(img_height, img_width),\n",
        "  #batch_size=batch_size,\n",
        "  )"
      ],
      "metadata": {
        "colab": {
          "base_uri": "https://localhost:8080/"
        },
        "id": "WRi5DDjCpN5f",
        "outputId": "0492a32f-2a2e-4f17-abcb-181386b22a7e"
      },
      "execution_count": 11,
      "outputs": [
        {
          "output_type": "stream",
          "name": "stdout",
          "text": [
            "Found 2574 files belonging to 33 classes.\n"
          ]
        }
      ]
    },
    {
      "cell_type": "code",
      "source": [
        "class_names = val_data.class_names\n",
        "print(\"Les classes :\")\n",
        "print(class_names)\n",
        "print(\"Nombre de classe : {} \".format(len(class_names)))"
      ],
      "metadata": {
        "colab": {
          "base_uri": "https://localhost:8080/"
        },
        "id": "lN6OFVrCVhLI",
        "outputId": "8148a62e-9c0a-449a-9a4a-fbc2e4980d6b"
      },
      "execution_count": 12,
      "outputs": [
        {
          "output_type": "stream",
          "name": "stdout",
          "text": [
            "Les classes :\n",
            "['ya', 'yab', 'yach', 'yad', 'yadd', 'yae', 'yaf', 'yag', 'yagh', 'yagw', 'yah', 'yahh', 'yaj', 'yak', 'yakw', 'yal', 'yam', 'yan', 'yaq', 'yar', 'yarr', 'yas', 'yass', 'yat', 'yatt', 'yaw', 'yax', 'yay', 'yaz', 'yazz', 'yey', 'yi', 'yu']\n",
            "Nombre de classe : 33 \n"
          ]
        }
      ]
    },
    {
      "cell_type": "code",
      "source": [
        "#Exemple d'une image\n",
        "image = plt.imread(\"/content/output/val/ya/ya_121.jpeg\")\n",
        "plt.imshow(image)"
      ],
      "metadata": {
        "colab": {
          "base_uri": "https://localhost:8080/",
          "height": 285
        },
        "id": "V4gI3BiapWgV",
        "outputId": "ca69fac4-f0cd-4d46-d405-6591078426f2"
      },
      "execution_count": 13,
      "outputs": [
        {
          "output_type": "execute_result",
          "data": {
            "text/plain": [
              "<matplotlib.image.AxesImage at 0x7f6a4ed27af0>"
            ]
          },
          "metadata": {},
          "execution_count": 13
        },
        {
          "output_type": "display_data",
          "data": {
            "text/plain": [
              "<Figure size 432x288 with 1 Axes>"
            ],
            "image/png": "[encoded data removed]"
          },
          "metadata": {
            "needs_background": "light"
          }
        }
      ]
    },
    {
      "cell_type": "code",
      "execution_count": 14,
      "metadata": {
        "colab": {
          "base_uri": "https://localhost:8080/"
        },
        "id": "k9UXxl4hUkAs",
        "outputId": "e0f4813b-57c0-461c-f032-229ba7fbddfd"
      },
      "outputs": [
        {
          "output_type": "stream",
          "name": "stdout",
          "text": [
            "Looking in indexes: https://pypi.org/simple, https://us-python.pkg.dev/colab-wheels/public/simple/\n",
            "Requirement already satisfied: keras-tuner in /usr/local/lib/python3.8/dist-packages (1.1.3)\n",
            "Requirement already satisfied: requests in /usr/local/lib/python3.8/dist-packages (from keras-tuner) (2.23.0)\n",
            "Requirement already satisfied: numpy in /usr/local/lib/python3.8/dist-packages (from keras-tuner) (1.21.6)\n",
            "Requirement already satisfied: packaging in /usr/local/lib/python3.8/dist-packages (from keras-tuner) (21.3)\n",
            "Requirement already satisfied: tensorboard in /usr/local/lib/python3.8/dist-packages (from keras-tuner) (2.9.1)\n",
            "Requirement already satisfied: kt-legacy in /usr/local/lib/python3.8/dist-packages (from keras-tuner) (1.0.4)\n",
            "Requirement already satisfied: ipython in /usr/local/lib/python3.8/dist-packages (from keras-tuner) (7.9.0)\n",
            "Requirement already satisfied: pickleshare in /usr/local/lib/python3.8/dist-packages (from ipython->keras-tuner) (0.7.5)\n",
            "Requirement already satisfied: traitlets>=4.2 in /usr/local/lib/python3.8/dist-packages (from ipython->keras-tuner) (5.7.1)\n",
            "Requirement already satisfied: prompt-toolkit<2.1.0,>=2.0.0 in /usr/local/lib/python3.8/dist-packages (from ipython->keras-tuner) (2.0.10)\n",
            "Requirement already satisfied: jedi>=0.10 in /usr/local/lib/python3.8/dist-packages (from ipython->keras-tuner) (0.18.2)\n",
            "Requirement already satisfied: backcall in /usr/local/lib/python3.8/dist-packages (from ipython->keras-tuner) (0.2.0)\n",
            "Requirement already satisfied: pexpect in /usr/local/lib/python3.8/dist-packages (from ipython->keras-tuner) (4.8.0)\n",
            "Requirement already satisfied: setuptools>=18.5 in /usr/local/lib/python3.8/dist-packages (from ipython->keras-tuner) (57.4.0)\n",
            "Requirement already satisfied: decorator in /usr/local/lib/python3.8/dist-packages (from ipython->keras-tuner) (4.4.2)\n",
            "Requirement already satisfied: pygments in /usr/local/lib/python3.8/dist-packages (from ipython->keras-tuner) (2.6.1)\n",
            "Requirement already satisfied: parso<0.9.0,>=0.8.0 in /usr/local/lib/python3.8/dist-packages (from jedi>=0.10->ipython->keras-tuner) (0.8.3)\n",
            "Requirement already satisfied: wcwidth in /usr/local/lib/python3.8/dist-packages (from prompt-toolkit<2.1.0,>=2.0.0->ipython->keras-tuner) (0.2.5)\n",
            "Requirement already satisfied: six>=1.9.0 in /usr/local/lib/python3.8/dist-packages (from prompt-toolkit<2.1.0,>=2.0.0->ipython->keras-tuner) (1.15.0)\n",
            "Requirement already satisfied: pyparsing!=3.0.5,>=2.0.2 in /usr/local/lib/python3.8/dist-packages (from packaging->keras-tuner) (3.0.9)\n",
            "Requirement already satisfied: ptyprocess>=0.5 in /usr/local/lib/python3.8/dist-packages (from pexpect->ipython->keras-tuner) (0.7.0)\n",
            "Requirement already satisfied: certifi>=2017.4.17 in /usr/local/lib/python3.8/dist-packages (from requests->keras-tuner) (2022.12.7)\n",
            "Requirement already satisfied: urllib3!=1.25.0,!=1.25.1,<1.26,>=1.21.1 in /usr/local/lib/python3.8/dist-packages (from requests->keras-tuner) (1.24.3)\n",
            "Requirement already satisfied: idna<3,>=2.5 in /usr/local/lib/python3.8/dist-packages (from requests->keras-tuner) (2.10)\n",
            "Requirement already satisfied: chardet<4,>=3.0.2 in /usr/local/lib/python3.8/dist-packages (from requests->keras-tuner) (3.0.4)\n",
            "Requirement already satisfied: google-auth-oauthlib<0.5,>=0.4.1 in /usr/local/lib/python3.8/dist-packages (from tensorboard->keras-tuner) (0.4.6)\n",
            "Requirement already satisfied: wheel>=0.26 in /usr/local/lib/python3.8/dist-packages (from tensorboard->keras-tuner) (0.38.4)\n",
            "Requirement already satisfied: absl-py>=0.4 in /usr/local/lib/python3.8/dist-packages (from tensorboard->keras-tuner) (1.3.0)\n",
            "Requirement already satisfied: grpcio>=1.24.3 in /usr/local/lib/python3.8/dist-packages (from tensorboard->keras-tuner) (1.51.1)\n",
            "Requirement already satisfied: tensorboard-plugin-wit>=1.6.0 in /usr/local/lib/python3.8/dist-packages (from tensorboard->keras-tuner) (1.8.1)\n",
            "Requirement already satisfied: werkzeug>=1.0.1 in /usr/local/lib/python3.8/dist-packages (from tensorboard->keras-tuner) (1.0.1)\n",
            "Requirement already satisfied: protobuf<3.20,>=3.9.2 in /usr/local/lib/python3.8/dist-packages (from tensorboard->keras-tuner) (3.19.6)\n",
            "Requirement already satisfied: google-auth<3,>=1.6.3 in /usr/local/lib/python3.8/dist-packages (from tensorboard->keras-tuner) (2.15.0)\n",
            "Requirement already satisfied: tensorboard-data-server<0.7.0,>=0.6.0 in /usr/local/lib/python3.8/dist-packages (from tensorboard->keras-tuner) (0.6.1)\n",
            "Requirement already satisfied: markdown>=2.6.8 in /usr/local/lib/python3.8/dist-packages (from tensorboard->keras-tuner) (3.4.1)\n",
            "Requirement already satisfied: pyasn1-modules>=0.2.1 in /usr/local/lib/python3.8/dist-packages (from google-auth<3,>=1.6.3->tensorboard->keras-tuner) (0.2.8)\n",
            "Requirement already satisfied: cachetools<6.0,>=2.0.0 in /usr/local/lib/python3.8/dist-packages (from google-auth<3,>=1.6.3->tensorboard->keras-tuner) (5.2.0)\n",
            "Requirement already satisfied: rsa<5,>=3.1.4 in /usr/local/lib/python3.8/dist-packages (from google-auth<3,>=1.6.3->tensorboard->keras-tuner) (4.9)\n",
            "Requirement already satisfied: requests-oauthlib>=0.7.0 in /usr/local/lib/python3.8/dist-packages (from google-auth-oauthlib<0.5,>=0.4.1->tensorboard->keras-tuner) (1.3.1)\n",
            "Requirement already satisfied: importlib-metadata>=4.4 in /usr/local/lib/python3.8/dist-packages (from markdown>=2.6.8->tensorboard->keras-tuner) (5.1.0)\n",
            "Requirement already satisfied: zipp>=0.5 in /usr/local/lib/python3.8/dist-packages (from importlib-metadata>=4.4->markdown>=2.6.8->tensorboard->keras-tuner) (3.11.0)\n",
            "Requirement already satisfied: pyasn1<0.5.0,>=0.4.6 in /usr/local/lib/python3.8/dist-packages (from pyasn1-modules>=0.2.1->google-auth<3,>=1.6.3->tensorboard->keras-tuner) (0.4.8)\n",
            "Requirement already satisfied: oauthlib>=3.0.0 in /usr/local/lib/python3.8/dist-packages (from requests-oauthlib>=0.7.0->google-auth-oauthlib<0.5,>=0.4.1->tensorboard->keras-tuner) (3.2.2)\n"
          ]
        }
      ],
      "source": [
        "!pip install keras-tuner --upgrade"
      ]
    },
    {
      "cell_type": "code",
      "source": [
        "import keras_tuner\n",
        "from tensorflow import keras\n",
        "from keras import backend as K\n",
        "from tensorflow.keras import layers, losses\n",
        "import numpy as np\n",
        "import matplotlib.pyplot as plt\n",
        "import os\n",
        "from tensorflow.keras.layers import MaxPool2D"
      ],
      "metadata": {
        "id": "5DL5UotqUzAU"
      },
      "execution_count": 15,
      "outputs": []
    },
    {
      "cell_type": "code",
      "source": [
        "\"\"\"\n",
        "tuner = keras_tuner.BayesianOptimization(\n",
        "                        hypermodel=MyHyperModel(),\n",
        "                        objective = \"val_accuracy\",\n",
        "                        max_trials =10, #max candidates to test\n",
        "                        overwrite=True,\n",
        "                        directory='BO_search_dir',\n",
        "                        project_name='sign_language_cnn')\n",
        "\"\"\""
      ],
      "metadata": {
        "colab": {
          "base_uri": "https://localhost:8080/",
          "height": 70
        },
        "id": "HtjdHXoCUzsb",
        "outputId": "3d2a3768-800d-45a7-cf8e-0c100fe2491f"
      },
      "execution_count": 34,
      "outputs": [
        {
          "output_type": "execute_result",
          "data": {
            "text/plain": [
              "'\\ntuner = keras_tuner.BayesianOptimization(\\n                        hypermodel=MyHyperModel(),\\n                        objective = \"val_accuracy\",\\n                        max_trials =10, #max candidates to test\\n                        overwrite=True,\\n                        directory=\\'BO_search_dir\\',\\n                        project_name=\\'sign_language_cnn\\')\\n'"
            ],
            "application/vnd.google.colaboratory.intrinsic+json": {
              "type": "string"
            }
          },
          "metadata": {},
          "execution_count": 34
        }
      ]
    },
    {
      "cell_type": "code",
      "source": [
        "from tensorflow.keras import layers\n",
        "from tensorflow.keras.datasets import mnist\n",
        "from tensorflow.keras.models import Sequential\n",
        "from tensorflow.keras.layers import Conv2D\n",
        "from tensorflow.keras.layers import MaxPool2D\n",
        "from tensorflow.keras.layers import Flatten\n",
        "from tensorflow.keras.layers import Dropout\n",
        "from tensorflow.keras.layers import Dense\n",
        "from tensorflow.keras.layers.experimental.preprocessing import Rescaling\n",
        "\n",
        "def build_model(hp):\n",
        "    #defining model\n",
        "    model=Sequential()\n",
        "    model.add(Rescaling(1./255))\n",
        "    model.add(Conv2D(hp.Int('input_units',\n",
        "                                min_value=32,\n",
        "                                max_value=256,\n",
        "                                step=32), (3, 3), padding=\"same\", input_shape=(32, 32, 3),activation=\"relu\"))\n",
        "    \n",
        "    # Number of Conv Layers is up to tuning\n",
        "    for i in range( hp.Int(\"num_conv\", min_value=1, max_value=5, step=1)) :\n",
        "      model.add(Conv2D(hp.Int(f'conv_{i}_units',\n",
        "                                min_value=32,\n",
        "                                max_value=256,\n",
        "                                step=32), (3, 3),\n",
        "                                padding='same',\n",
        "                                activation='relu'))\n",
        "      \n",
        "      \n",
        "      model.add(MaxPool2D(pool_size=(2, 2)))\n",
        "\n",
        "    model.add(Dropout(0.5))\n",
        "    model.add(Flatten())\n",
        "\n",
        "    for i in range(hp.Int(\"num_dense\", min_value=1, max_value=4, step=1)) :\n",
        "       model.add(Dense(hp.Choice(f'n_nodes',\n",
        "                                  values=[64,128, 256, 512, 1024]),activation=\"relu\"))\n",
        "       \n",
        "       \n",
        "    model.add(Dense(33,activation='softmax'))\n",
        "\n",
        "    model.compile(optimizer=tf.keras.optimizers.experimental.RMSprop(learning_rate=0.001),\n",
        "              loss=tf.losses.SparseCategoricalCrossentropy(from_logits=True),\n",
        "              metrics=['accuracy'])\n",
        "    \n",
        "    return model"
      ],
      "metadata": {
        "id": "mSCUBaMtUzy2"
      },
      "execution_count": 16,
      "outputs": []
    },
    {
      "cell_type": "code",
      "source": [
        "from kerastuner.tuners import RandomSearch\n",
        "tuner = RandomSearch( build_model,\n",
        "                      max_trials=5,  # how many model variations to test?\n",
        "                      objective = \"val_accuracy\",\n",
        "                      executions_per_trial=3,  # how many trials per variation? (same model could perform differently)\n",
        "                      )"
      ],
      "metadata": {
        "colab": {
          "base_uri": "https://localhost:8080/"
        },
        "id": "1Ldg-sj_U65l",
        "outputId": "c876680d-a9e7-4724-fe90-aab524172f66"
      },
      "execution_count": 17,
      "outputs": [
        {
          "output_type": "stream",
          "name": "stderr",
          "text": [
            "<ipython-input-17-c71820cb3b24>:1: DeprecationWarning: `import kerastuner` is deprecated, please use `import keras_tuner`.\n",
            "  from kerastuner.tuners import RandomSearch\n"
          ]
        }
      ]
    },
    {
      "cell_type": "code",
      "source": [
        "tuner.search(x=train_data, epochs=20,\n",
        "             validation_data=val_data)"
      ],
      "metadata": {
        "colab": {
          "base_uri": "https://localhost:8080/"
        },
        "id": "i_XmLOjuU7GH",
        "outputId": "0b449ef9-f44a-4a57-bde0-45cd5620ba9d"
      },
      "execution_count": 18,
      "outputs": [
        {
          "output_type": "stream",
          "name": "stdout",
          "text": [
            "Trial 5 Complete [00h 49m 12s]\n",
            "val_accuracy: 0.9892514745394388\n",
            "\n",
            "Best val_accuracy So Far: 0.9935250083605448\n",
            "Total elapsed time: 02h 29m 08s\n"
          ]
        }
      ]
    },
    {
      "cell_type": "code",
      "source": [
        "\n",
        "from tensorflow.keras.utils import plot_model\n",
        "# Get the optimal hyperparameters\n",
        "best_hps= tuner.get_best_hyperparameters(1)[0]\n",
        "\n",
        "# get the best model\n",
        "best_model = tuner.get_best_models(1)[0]\n"
      ],
      "metadata": {
        "id": "Db3AEFTbUz4q"
      },
      "execution_count": 19,
      "outputs": []
    },
    {
      "cell_type": "code",
      "source": [
        "print(tuner.get_best_hyperparameters()[0].values)"
      ],
      "metadata": {
        "colab": {
          "base_uri": "https://localhost:8080/"
        },
        "id": "yFxx4Rc4qc_8",
        "outputId": "206eb0de-4d3a-4ccc-8f5f-a05ad7c8d632"
      },
      "execution_count": 23,
      "outputs": [
        {
          "output_type": "stream",
          "name": "stdout",
          "text": [
            "{'input_units': 160, 'num_conv': 4, 'conv_0_units': 256, 'num_dense': 1, 'n_nodes': 512, 'conv_1_units': 256, 'conv_2_units': 128, 'conv_3_units': 32}\n"
          ]
        }
      ]
    },
    {
      "cell_type": "code",
      "source": [
        "\n",
        "nblocks = best_hps.get('num_conv')\n",
        "print(f'Number of conv blocks: {nblocks}')\n"
      ],
      "metadata": {
        "id": "8_awHrF4qjVE",
        "colab": {
          "base_uri": "https://localhost:8080/"
        },
        "outputId": "e630ea41-0e3e-438a-f27f-bfe7a3a306ad"
      },
      "execution_count": 24,
      "outputs": [
        {
          "output_type": "stream",
          "name": "stdout",
          "text": [
            "Number of conv blocks: 4\n"
          ]
        }
      ]
    },
    {
      "cell_type": "code",
      "source": [
        "\n",
        "# Build the model with the optimal hyperparameters\n",
        "# train the model.\n",
        "model = tuner.hypermodel.build(best_hps)\n",
        "historique = model.fit(train_data, \n",
        "          validation_data=val_data, \n",
        "          epochs= 40,)\n",
        "           #callbacks=[tf.keras.callbacks.EarlyStopping(patience=5)])\n"
      ],
      "metadata": {
        "colab": {
          "base_uri": "https://localhost:8080/"
        },
        "id": "EEZP74RrikTO",
        "outputId": "618a97e1-f88e-463e-f17b-e3bb5ed6e7a6"
      },
      "execution_count": 30,
      "outputs": [
        {
          "output_type": "stream",
          "name": "stdout",
          "text": [
            "Epoch 1/40\n"
          ]
        },
        {
          "output_type": "stream",
          "name": "stderr",
          "text": [
            "/usr/local/lib/python3.8/dist-packages/tensorflow/python/util/dispatch.py:1082: UserWarning: \"`sparse_categorical_crossentropy` received `from_logits=True`, but the `output` argument was produced by a sigmoid or softmax activation and thus does not represent logits. Was this intended?\"\n",
            "  return dispatch_target(*args, **kwargs)\n"
          ]
        },
        {
          "output_type": "stream",
          "name": "stdout",
          "text": [
            "644/644 [==============================] - 15s 20ms/step - loss: 3.4026 - accuracy: 0.0559 - val_loss: 1.6669 - val_accuracy: 0.5105\n",
            "Epoch 2/40\n",
            "644/644 [==============================] - 13s 20ms/step - loss: 0.7442 - accuracy: 0.7609 - val_loss: 0.1705 - val_accuracy: 0.9549\n",
            "Epoch 3/40\n",
            "644/644 [==============================] - 13s 20ms/step - loss: 0.2635 - accuracy: 0.9193 - val_loss: 0.1607 - val_accuracy: 0.9608\n",
            "Epoch 4/40\n",
            "644/644 [==============================] - 13s 19ms/step - loss: 0.1778 - accuracy: 0.9468 - val_loss: 0.0732 - val_accuracy: 0.9786\n",
            "Epoch 5/40\n",
            "644/644 [==============================] - 13s 19ms/step - loss: 0.1492 - accuracy: 0.9564 - val_loss: 0.0851 - val_accuracy: 0.9763\n",
            "Epoch 6/40\n",
            "644/644 [==============================] - 13s 19ms/step - loss: 0.1226 - accuracy: 0.9647 - val_loss: 0.0670 - val_accuracy: 0.9837\n",
            "Epoch 7/40\n",
            "644/644 [==============================] - 13s 19ms/step - loss: 0.1365 - accuracy: 0.9682 - val_loss: 0.0634 - val_accuracy: 0.9895\n",
            "Epoch 8/40\n",
            "644/644 [==============================] - 13s 19ms/step - loss: 0.0986 - accuracy: 0.9718 - val_loss: 0.1125 - val_accuracy: 0.9728\n",
            "Epoch 9/40\n",
            "644/644 [==============================] - 13s 20ms/step - loss: 0.0957 - accuracy: 0.9737 - val_loss: 0.0672 - val_accuracy: 0.9852\n",
            "Epoch 10/40\n",
            "644/644 [==============================] - 15s 22ms/step - loss: 0.0909 - accuracy: 0.9739 - val_loss: 0.0698 - val_accuracy: 0.9864\n",
            "Epoch 11/40\n",
            "644/644 [==============================] - 30s 46ms/step - loss: 0.0882 - accuracy: 0.9747 - val_loss: 0.0566 - val_accuracy: 0.9887\n",
            "Epoch 12/40\n",
            "644/644 [==============================] - 46s 70ms/step - loss: 0.0834 - accuracy: 0.9778 - val_loss: 0.0816 - val_accuracy: 0.9860\n",
            "Epoch 13/40\n",
            "644/644 [==============================] - 46s 70ms/step - loss: 0.1158 - accuracy: 0.9749 - val_loss: 0.0418 - val_accuracy: 0.9934\n",
            "Epoch 14/40\n",
            "644/644 [==============================] - 46s 70ms/step - loss: 0.0873 - accuracy: 0.9774 - val_loss: 0.0618 - val_accuracy: 0.9880\n",
            "Epoch 15/40\n",
            "644/644 [==============================] - 46s 70ms/step - loss: 0.0851 - accuracy: 0.9786 - val_loss: 0.0585 - val_accuracy: 0.9895\n",
            "Epoch 16/40\n",
            "644/644 [==============================] - 47s 73ms/step - loss: 0.0803 - accuracy: 0.9787 - val_loss: 0.0683 - val_accuracy: 0.9876\n",
            "Epoch 17/40\n",
            "644/644 [==============================] - 46s 71ms/step - loss: 0.0827 - accuracy: 0.9788 - val_loss: 0.0413 - val_accuracy: 0.9918\n",
            "Epoch 18/40\n",
            "644/644 [==============================] - 37s 56ms/step - loss: 0.0868 - accuracy: 0.9780 - val_loss: 0.0718 - val_accuracy: 0.9903\n",
            "Epoch 19/40\n",
            "644/644 [==============================] - 33s 50ms/step - loss: 0.0842 - accuracy: 0.9805 - val_loss: 0.1253 - val_accuracy: 0.9887\n",
            "Epoch 20/40\n",
            "644/644 [==============================] - 42s 65ms/step - loss: 0.0798 - accuracy: 0.9811 - val_loss: 0.1025 - val_accuracy: 0.9856\n",
            "Epoch 21/40\n",
            "644/644 [==============================] - 48s 73ms/step - loss: 0.0753 - accuracy: 0.9811 - val_loss: 0.0796 - val_accuracy: 0.9907\n",
            "Epoch 22/40\n",
            "644/644 [==============================] - 46s 71ms/step - loss: 0.0770 - accuracy: 0.9813 - val_loss: 0.0572 - val_accuracy: 0.9911\n",
            "Epoch 23/40\n",
            "644/644 [==============================] - 48s 73ms/step - loss: 0.0776 - accuracy: 0.9817 - val_loss: 0.0916 - val_accuracy: 0.9872\n",
            "Epoch 24/40\n",
            "644/644 [==============================] - 46s 71ms/step - loss: 0.0771 - accuracy: 0.9822 - val_loss: 0.1076 - val_accuracy: 0.9891\n",
            "Epoch 25/40\n",
            "644/644 [==============================] - 33s 51ms/step - loss: 0.0843 - accuracy: 0.9809 - val_loss: 0.0819 - val_accuracy: 0.9872\n",
            "Epoch 26/40\n",
            "644/644 [==============================] - 44s 68ms/step - loss: 0.0800 - accuracy: 0.9814 - val_loss: 0.0755 - val_accuracy: 0.9899\n",
            "Epoch 27/40\n",
            "644/644 [==============================] - 47s 73ms/step - loss: 0.0795 - accuracy: 0.9813 - val_loss: 0.0682 - val_accuracy: 0.9895\n",
            "Epoch 28/40\n",
            "644/644 [==============================] - 46s 71ms/step - loss: 0.0882 - accuracy: 0.9809 - val_loss: 0.1238 - val_accuracy: 0.9876\n",
            "Epoch 29/40\n",
            "644/644 [==============================] - 48s 74ms/step - loss: 0.0952 - accuracy: 0.9814 - val_loss: 0.1091 - val_accuracy: 0.9895\n",
            "Epoch 30/40\n",
            "644/644 [==============================] - 45s 69ms/step - loss: 0.0859 - accuracy: 0.9819 - val_loss: 0.0786 - val_accuracy: 0.9915\n",
            "Epoch 31/40\n",
            "644/644 [==============================] - 33s 50ms/step - loss: 0.0908 - accuracy: 0.9795 - val_loss: 0.0897 - val_accuracy: 0.9876\n",
            "Epoch 32/40\n",
            "644/644 [==============================] - 45s 70ms/step - loss: 0.1004 - accuracy: 0.9799 - val_loss: 0.1103 - val_accuracy: 0.9817\n",
            "Epoch 33/40\n",
            "644/644 [==============================] - 46s 71ms/step - loss: 0.0946 - accuracy: 0.9798 - val_loss: 0.1283 - val_accuracy: 0.9852\n",
            "Epoch 34/40\n",
            "644/644 [==============================] - 47s 72ms/step - loss: 0.0977 - accuracy: 0.9815 - val_loss: 0.1155 - val_accuracy: 0.9876\n",
            "Epoch 35/40\n",
            "644/644 [==============================] - 41s 64ms/step - loss: 0.1000 - accuracy: 0.9804 - val_loss: 0.1079 - val_accuracy: 0.9782\n",
            "Epoch 36/40\n",
            "644/644 [==============================] - 25s 38ms/step - loss: 0.1029 - accuracy: 0.9786 - val_loss: 0.0995 - val_accuracy: 0.9899\n",
            "Epoch 37/40\n",
            "644/644 [==============================] - 47s 73ms/step - loss: 0.1113 - accuracy: 0.9817 - val_loss: 0.1170 - val_accuracy: 0.9907\n",
            "Epoch 38/40\n",
            "644/644 [==============================] - 45s 70ms/step - loss: 0.1005 - accuracy: 0.9793 - val_loss: 0.1237 - val_accuracy: 0.9852\n",
            "Epoch 39/40\n",
            "644/644 [==============================] - 46s 71ms/step - loss: 0.1238 - accuracy: 0.9790 - val_loss: 0.1134 - val_accuracy: 0.9864\n",
            "Epoch 40/40\n",
            "644/644 [==============================] - 45s 70ms/step - loss: 0.1031 - accuracy: 0.9808 - val_loss: 0.1104 - val_accuracy: 0.9930\n"
          ]
        }
      ]
    },
    {
      "cell_type": "code",
      "source": [],
      "metadata": {
        "id": "KA7kK9G-9D6o"
      },
      "execution_count": null,
      "outputs": []
    },
    {
      "cell_type": "code",
      "source": [
        "\n",
        "# display model structure\n",
        "# show model summary\n",
        "model.summary()\n"
      ],
      "metadata": {
        "colab": {
          "base_uri": "https://localhost:8080/"
        },
        "id": "gHp5YPImijAf",
        "outputId": "16228265-b436-42e5-d3b9-d45846a8f7d1"
      },
      "execution_count": 36,
      "outputs": [
        {
          "output_type": "stream",
          "name": "stdout",
          "text": [
            "Model: \"sequential_2\"\n",
            "_________________________________________________________________\n",
            " Layer (type)                Output Shape              Param #   \n",
            "=================================================================\n",
            " rescaling_2 (Rescaling)     (None, 32, 32, 3)         0         \n",
            "                                                                 \n",
            " conv2d_10 (Conv2D)          (None, 32, 32, 160)       4480      \n",
            "                                                                 \n",
            " conv2d_11 (Conv2D)          (None, 32, 32, 256)       368896    \n",
            "                                                                 \n",
            " max_pooling2d_8 (MaxPooling  (None, 16, 16, 256)      0         \n",
            " 2D)                                                             \n",
            "                                                                 \n",
            " conv2d_12 (Conv2D)          (None, 16, 16, 256)       590080    \n",
            "                                                                 \n",
            " max_pooling2d_9 (MaxPooling  (None, 8, 8, 256)        0         \n",
            " 2D)                                                             \n",
            "                                                                 \n",
            " conv2d_13 (Conv2D)          (None, 8, 8, 128)         295040    \n",
            "                                                                 \n",
            " max_pooling2d_10 (MaxPoolin  (None, 4, 4, 128)        0         \n",
            " g2D)                                                            \n",
            "                                                                 \n",
            " conv2d_14 (Conv2D)          (None, 4, 4, 32)          36896     \n",
            "                                                                 \n",
            " max_pooling2d_11 (MaxPoolin  (None, 2, 2, 32)         0         \n",
            " g2D)                                                            \n",
            "                                                                 \n",
            " dropout_2 (Dropout)         (None, 2, 2, 32)          0         \n",
            "                                                                 \n",
            " flatten_2 (Flatten)         (None, 128)               0         \n",
            "                                                                 \n",
            " dense_4 (Dense)             (None, 512)               66048     \n",
            "                                                                 \n",
            " dense_5 (Dense)             (None, 33)                16929     \n",
            "                                                                 \n",
            "=================================================================\n",
            "Total params: 1,378,369\n",
            "Trainable params: 1,378,369\n",
            "Non-trainable params: 0\n",
            "_________________________________________________________________\n"
          ]
        }
      ]
    },
    {
      "cell_type": "code",
      "source": [
        "model.save('/content/drive/MyDrive/cnn_model(Random_searchVF).h5')\n"
      ],
      "metadata": {
        "colab": {
          "base_uri": "https://localhost:8080/"
        },
        "id": "fzlGVhlijW_4",
        "outputId": "f7a8f8fe-b41a-4765-d41c-c4bf583e34fd"
      },
      "execution_count": 35,
      "outputs": [
        {
          "output_type": "stream",
          "name": "stderr",
          "text": [
            "WARNING:tensorflow:HDF5 format does not save weights of `optimizer_experimental.Optimizer`, your optimizer will be recompiled at loading time.\n"
          ]
        }
      ]
    },
    {
      "cell_type": "code",
      "source": [
        "import pandas as pd\n",
        "metrics = pd.DataFrame(historique.history)"
      ],
      "metadata": {
        "id": "gexZ2xwlw7Qh"
      },
      "execution_count": 31,
      "outputs": []
    },
    {
      "cell_type": "code",
      "source": [
        "plt.figure(figsize=(10,10))\n",
        "plt.ylim([0,1])\n",
        "plt.xlim([0,30])\n",
        "plt.plot(metrics[[\"loss\"]],label = \"loss\")\n",
        "plt.plot(metrics[[\"val_loss\"]],label=\"val_loss\")\n",
        "plt.legend(loc=\"upper right\")\n",
        "plt.grid(True)\n",
        "plt.show()"
      ],
      "metadata": {
        "colab": {
          "base_uri": "https://localhost:8080/",
          "height": 596
        },
        "id": "-R9Vzi209NAA",
        "outputId": "a84ea4c3-f3fd-440b-a212-16ee4a5bb057"
      },
      "execution_count": 43,
      "outputs": [
        {
          "output_type": "display_data",
          "data": {
            "text/plain": [
              "<Figure size 720x720 with 1 Axes>"
            ],
            "image/png": "[encoded data removed]"
          },
          "metadata": {
            "needs_background": "light"
          }
        }
      ]
    },
    {
      "cell_type": "code",
      "source": [
        "plt.figure(figsize=(10,10))\n",
        "plt.ylim([0,1])\n",
        "plt.xlim([0,30])\n",
        "plt.plot(metrics[[\"accuracy\"]],label = \"accuracy\")\n",
        "plt.plot(metrics[[\"val_accuracy\"]],label=\"val_accuracy\")\n",
        "plt.legend(loc=\"lower right\")\n",
        "plt.grid(True)\n",
        "plt.show()"
      ],
      "metadata": {
        "colab": {
          "base_uri": "https://localhost:8080/",
          "height": 596
        },
        "id": "tDI2E64p9O9f",
        "outputId": "066fc0ee-d4e4-4a0f-b843-0c0ac424253a"
      },
      "execution_count": 47,
      "outputs": [
        {
          "output_type": "display_data",
          "data": {
            "text/plain": [
              "<Figure size 720x720 with 1 Axes>"
            ],
            "image/png": "[encoded data removed]"
          },
          "metadata": {
            "needs_background": "light"
          }
        }
      ]
    },
    {
      "cell_type": "code",
      "source": [
        "model.evaluate(test_data)"
      ],
      "metadata": {
        "colab": {
          "base_uri": "https://localhost:8080/"
        },
        "id": "pdGzXMOiwrXL",
        "outputId": "26df147f-e9eb-4b76-acb6-d9541432301d"
      },
      "execution_count": 34,
      "outputs": [
        {
          "output_type": "stream",
          "name": "stdout",
          "text": [
            "81/81 [==============================] - 2s 22ms/step - loss: 0.0708 - accuracy: 0.9942\n"
          ]
        },
        {
          "output_type": "execute_result",
          "data": {
            "text/plain": [
              "[0.07083651423454285, 0.9941725134849548]"
            ]
          },
          "metadata": {},
          "execution_count": 34
        }
      ]
    },
    {
      "cell_type": "code",
      "source": [],
      "metadata": {
        "id": "pxD0p2jb9Ru9"
      },
      "execution_count": null,
      "outputs": []
    }
  ]
}