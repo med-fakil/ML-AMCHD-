{
  "nbformat": 4,
  "nbformat_minor": 0,
  "metadata": {
    "colab": {
      "provenance": [],
      "authorship_tag": "ABX9TyOKMLrswVKJmU3OZL5lqfCm",
      "include_colab_link": true
    },
    "kernelspec": {
      "name": "python3",
      "display_name": "Python 3"
    },
    "language_info": {
      "name": "python"
    },
    "accelerator": "GPU",
    "gpuClass": "standard"
  },
  "cells": [
    {
      "cell_type": "markdown",
      "metadata": {
        "id": "view-in-github",
        "colab_type": "text"
      },
      "source": [
        "<a href=\"https://colab.research.google.com/github/med-fakil/ML-AMCHD-/blob/main/Mini_projet_ML.ipynb\" target=\"_parent\"><img src=\"https://colab.research.google.com/assets/colab-badge.svg\" alt=\"Open In Colab\"/></a>"
      ]
    },
    {
      "cell_type": "code",
      "source": [
        "import pathlib\n",
        "import os\n",
        "\n",
        "import cv2\n",
        "import numpy as np\n",
        "import requests\n",
        "import matplotlib.pyplot as plt\n",
        "import matplotlib.image as mpimg\n",
        "import sys\n",
        "import datetime\n",
        "from tensorflow import keras\n",
        "from tensorflow.keras.models import Model\n",
        "import tensorflow as tf"
      ],
      "metadata": {
        "id": "hlUveTCOutF8"
      },
      "execution_count": 2,
      "outputs": []
    },
    {
      "cell_type": "code",
      "source": [
        "from google.colab import drive\n",
        "drive.mount('/content/drive')"
      ],
      "metadata": {
        "colab": {
          "base_uri": "https://localhost:8080/"
        },
        "id": "7T7IMBQ5CBLV",
        "outputId": "7a7c3356-bccb-4ee3-c26b-5123942ebde2"
      },
      "execution_count": 3,
      "outputs": [
        {
          "output_type": "stream",
          "name": "stdout",
          "text": [
            "Mounted at /content/drive\n"
          ]
        }
      ]
    },
    {
      "cell_type": "code",
      "source": [
        "data_dir = '/content/drive/MyDrive/archive.zip'\n",
        "import zipfile\n",
        "with zipfile.ZipFile(data_dir, 'r') as zip_ref:\n",
        "    zip_ref.extractall('/content/datasets')"
      ],
      "metadata": {
        "id": "cEC4rHP7CmHw"
      },
      "execution_count": 4,
      "outputs": []
    },
    {
      "cell_type": "code",
      "source": [
        "data_dir = pathlib.Path('/content/datasets/AMHCD_64/AMHCD_64')\n",
        "print(\"Le répertoire de données : {} \".format(data_dir))"
      ],
      "metadata": {
        "colab": {
          "base_uri": "https://localhost:8080/"
        },
        "id": "HRIlNz8GCCjD",
        "outputId": "448011a8-3d01-45f8-8473-5f63e0ebb4c1"
      },
      "execution_count": 5,
      "outputs": [
        {
          "output_type": "stream",
          "name": "stdout",
          "text": [
            "Le répertoire de données : /content/datasets/AMHCD_64/AMHCD_64 \n"
          ]
        }
      ]
    },
    {
      "cell_type": "code",
      "source": [
        "image_count = len(list(data_dir.glob('*/*')))\n",
        "print(\"Nombre des images de la base de données : {} \".format(image_count))"
      ],
      "metadata": {
        "colab": {
          "base_uri": "https://localhost:8080/"
        },
        "id": "p1oRY9YCDhPD",
        "outputId": "790dc591-93da-45a0-bb3d-4df403e43067"
      },
      "execution_count": 6,
      "outputs": [
        {
          "output_type": "stream",
          "name": "stdout",
          "text": [
            "Nombre des images de la base de données : 25740 \n"
          ]
        }
      ]
    },
    {
      "cell_type": "code",
      "source": [
        "#Taille des images\n",
        "img_height = 32\n",
        "img_width = 32"
      ],
      "metadata": {
        "id": "CCTdtzDHHCUy"
      },
      "execution_count": 8,
      "outputs": []
    },
    {
      "cell_type": "code",
      "source": [
        "# train_data est un objet tensor, chaque élement est un tuple (image,label) \n",
        "train_data = tf.keras.preprocessing.image_dataset_from_directory(\n",
        "  data_dir,\n",
        "  validation_split=0.2,\n",
        "  subset=\"training\",\n",
        "  seed=42,\n",
        "  image_size=(img_height, img_width),\n",
        "  #batch_size=batch_size,\n",
        "  )\n"
      ],
      "metadata": {
        "colab": {
          "base_uri": "https://localhost:8080/"
        },
        "id": "jqmHU3WfDnu4",
        "outputId": "49e755ad-a556-4b16-b6fe-0af2a4c5a0e2"
      },
      "execution_count": 9,
      "outputs": [
        {
          "output_type": "stream",
          "name": "stdout",
          "text": [
            "Found 25740 files belonging to 33 classes.\n",
            "Using 20592 files for training.\n"
          ]
        }
      ]
    },
    {
      "cell_type": "code",
      "source": [
        "# val_data est un objet tensor, chaque élement est un tuple (image,label) \n",
        "val_data = tf.keras.preprocessing.image_dataset_from_directory(\n",
        "  data_dir,\n",
        "  validation_split=0.2,\n",
        "  subset=\"validation\",\n",
        "  seed=42,\n",
        "  image_size=(img_height, img_width),\n",
        "  #batch_size=batch_size,\n",
        "  )"
      ],
      "metadata": {
        "colab": {
          "base_uri": "https://localhost:8080/"
        },
        "id": "ibL3wnq-EiNL",
        "outputId": "a012aff8-06e2-4cb4-add7-c9f7b579ab55"
      },
      "execution_count": 10,
      "outputs": [
        {
          "output_type": "stream",
          "name": "stdout",
          "text": [
            "Found 25740 files belonging to 33 classes.\n",
            "Using 5148 files for validation.\n"
          ]
        }
      ]
    },
    {
      "cell_type": "code",
      "source": [
        "class_names = val_data.class_names\n",
        "print(\"Les classes :\")\n",
        "print(class_names)\n",
        "print(\"Nombre de classe : {} \".format(len(class_names)))"
      ],
      "metadata": {
        "colab": {
          "base_uri": "https://localhost:8080/"
        },
        "id": "Uayzcv4cFUXk",
        "outputId": "18df9ac5-305e-47ec-9669-fe26a7a9746c"
      },
      "execution_count": 11,
      "outputs": [
        {
          "output_type": "stream",
          "name": "stdout",
          "text": [
            "Les classes :\n",
            "['ya', 'yab', 'yach', 'yad', 'yadd', 'yae', 'yaf', 'yag', 'yagh', 'yagw', 'yah', 'yahh', 'yaj', 'yak', 'yakw', 'yal', 'yam', 'yan', 'yaq', 'yar', 'yarr', 'yas', 'yass', 'yat', 'yatt', 'yaw', 'yax', 'yay', 'yaz', 'yazz', 'yey', 'yi', 'yu']\n",
            "Nombre de classe : 33 \n"
          ]
        }
      ]
    },
    {
      "cell_type": "code",
      "source": [
        "#Visualiser qlq données\n",
        "plt.figure(figsize=(10, 10))\n",
        "for images, labels in train_data.take(1):\n",
        "  for i in range(3):\n",
        "    ax = plt.subplot(1, 3, i + 1)\n",
        "    plt.imshow(images[i].numpy().astype(\"uint8\"))\n",
        "    plt.title(class_names[labels[i]])\n",
        "    plt.axis(\"off\")"
      ],
      "metadata": {
        "colab": {
          "base_uri": "https://localhost:8080/",
          "height": 211
        },
        "id": "k40BNZaSFiGf",
        "outputId": "7996f953-87ac-49f5-8ba2-7bd2b9e7f83b"
      },
      "execution_count": 12,
      "outputs": [
        {
          "output_type": "display_data",
          "data": {
            "text/plain": [
              "<Figure size 720x720 with 3 Axes>"
            ],
            "image/png": "[encoded data removed]"
          },
          "metadata": {
            "needs_background": "light"
          }
        }
      ]
    },
    {
      "cell_type": "code",
      "source": [
        "\"\"\"\n",
        "from tensorflow.keras import layers\n",
        "from tensorflow.keras.datasets import mnist\n",
        "from tensorflow.keras.models import Sequential\n",
        "from tensorflow.keras.layers import Conv2D\n",
        "from tensorflow.keras.layers import MaxPool2D\n",
        "from tensorflow.keras.layers import Flatten\n",
        "from tensorflow.keras.layers import Dropout\n",
        "from tensorflow.keras.layers import Dense\n",
        "\n",
        "num_classes = 33\n",
        "\n",
        "#defining model\n",
        "model=Sequential()\n",
        "#Premier couche\n",
        "model.add(Conv2D(32,(3,3),activation='relu',input_shape=(32,32,3)))\n",
        "\n",
        "#Deuxième couche\n",
        "model.add(Conv2D(32,(3,3),activation='relu'))\n",
        "model.add(MaxPool2D(2,2))\n",
        "model.add(Dropout(0.5))\n",
        "\n",
        "\n",
        "#Troisième couche\n",
        "model.add(Conv2D(64,(3,3),activation='relu'))\n",
        "model.add(MaxPool2D(2,2))\n",
        "model.add(Dropout(0.5))\n",
        "\n",
        "#4ème couche\n",
        "model.add(Dense(64,activation='relu'))\n",
        "\n",
        "#5ème couche\n",
        "model.add(Dense(33,activation='softmax'))\n",
        "\"\"\""
      ],
      "metadata": {
        "colab": {
          "base_uri": "https://localhost:8080/",
          "height": 122
        },
        "id": "yygZUSO2HmbJ",
        "outputId": "701b1ce4-e5cc-4e71-a7f3-132459877ebb"
      },
      "execution_count": 39,
      "outputs": [
        {
          "output_type": "execute_result",
          "data": {
            "text/plain": [
              "\"\\nfrom tensorflow.keras import layers\\nfrom tensorflow.keras.datasets import mnist\\nfrom tensorflow.keras.models import Sequential\\nfrom tensorflow.keras.layers import Conv2D\\nfrom tensorflow.keras.layers import MaxPool2D\\nfrom tensorflow.keras.layers import Flatten\\nfrom tensorflow.keras.layers import Dropout\\nfrom tensorflow.keras.layers import Dense\\n\\nnum_classes = 33\\n\\n#defining model\\nmodel=Sequential()\\n#Premier couche\\nmodel.add(Conv2D(32,(3,3),activation='relu',input_shape=(32,32,3)))\\n\\n#Deuxième couche\\nmodel.add(Conv2D(32,(3,3),activation='relu'))\\nmodel.add(MaxPool2D(2,2))\\nmodel.add(Dropout(0.5))\\n\\n\\n#Troisième couche\\nmodel.add(Conv2D(64,(3,3),activation='relu'))\\nmodel.add(MaxPool2D(2,2))\\nmodel.add(Dropout(0.5))\\n\\n#4ème couche\\nmodel.add(Dense(64,activation='relu'))\\n\\n#5ème couche\\nmodel.add(Dense(33,activation='softmax'))\\n\""
            ],
            "application/vnd.google.colaboratory.intrinsic+json": {
              "type": "string"
            }
          },
          "metadata": {},
          "execution_count": 39
        }
      ]
    },
    {
      "cell_type": "code",
      "source": [
        "from tensorflow.keras import layers\n",
        "\n",
        "num_classes = 33\n",
        "\n",
        "model = tf.keras.Sequential([\n",
        "    layers.experimental.preprocessing.Rescaling(1./255),\n",
        "    layers.Conv2D(32,(3,3), activation='relu',input_shape=(32, 32, 3)),\n",
        "\n",
        "    layers.Conv2D(32,(3,3), activation='relu'),\n",
        "    layers.MaxPooling2D((2,2)),\n",
        "    layers.Dropout(rate=0.5),\n",
        "\n",
        "    layers.Conv2D(64,(3,3), activation='relu'),\n",
        "    layers.MaxPooling2D((2,2)),\n",
        "    layers.Dropout(rate=0.5),\n",
        "    \n",
        "    layers.Flatten(),\n",
        "\n",
        "    layers.Dense(64,activation='relu'),\n",
        "    layers.Dense(num_classes, activation='softmax')\n",
        "])"
      ],
      "metadata": {
        "id": "jZDEeKPCRGP7"
      },
      "execution_count": 22,
      "outputs": []
    },
    {
      "cell_type": "code",
      "source": [
        "model.compile(optimizer='RMSProp',\n",
        "              loss=tf.losses.SparseCategoricalCrossentropy(from_logits=True),\n",
        "              metrics=['accuracy'],)\n",
        "\n",
        "logdir=\"logs\"\n",
        "tensorboard_callback = keras.callbacks.TensorBoard(log_dir=logdir,\n",
        "                                                   histogram_freq=1, \n",
        "                                                   write_images=logdir,\n",
        "                                                   embeddings_data=train_data)\n",
        "\n",
        "\n",
        "historique = model.fit( \n",
        "             train_data,\n",
        "             validation_data=val_data,\n",
        "             epochs=,\n",
        "             callbacks=[tensorboard_callback]\n",
        ")"
      ],
      "metadata": {
        "colab": {
          "base_uri": "https://localhost:8080/"
        },
        "id": "qLUv-dhKHqlr",
        "outputId": "cea06117-35b6-4ab1-d866-2ff45f916f31"
      },
      "execution_count": 28,
      "outputs": [
        {
          "output_type": "stream",
          "name": "stderr",
          "text": [
            "WARNING:tensorflow:`embeddings_data` is not supported in TensorFlow 2.0. Instead, all `Embedding` variables will be visualized.\n"
          ]
        },
        {
          "output_type": "stream",
          "name": "stdout",
          "text": [
            "Epoch 1/40\n"
          ]
        },
        {
          "output_type": "stream",
          "name": "stderr",
          "text": [
            "/usr/local/lib/python3.8/dist-packages/tensorflow/python/util/dispatch.py:1082: UserWarning: \"`sparse_categorical_crossentropy` received `from_logits=True`, but the `output` argument was produced by a sigmoid or softmax activation and thus does not represent logits. Was this intended?\"\n",
            "  return dispatch_target(*args, **kwargs)\n"
          ]
        },
        {
          "output_type": "stream",
          "name": "stdout",
          "text": [
            "644/644 [==============================] - 13s 18ms/step - loss: 0.0512 - accuracy: 0.9863 - val_loss: 0.0424 - val_accuracy: 0.9907\n",
            "Epoch 2/40\n",
            "644/644 [==============================] - 13s 20ms/step - loss: 0.0364 - accuracy: 0.9894 - val_loss: 0.0393 - val_accuracy: 0.9905\n",
            "Epoch 3/40\n",
            "644/644 [==============================] - 13s 19ms/step - loss: 0.0375 - accuracy: 0.9895 - val_loss: 0.0438 - val_accuracy: 0.9924\n",
            "Epoch 4/40\n",
            "644/644 [==============================] - 14s 21ms/step - loss: 0.0327 - accuracy: 0.9904 - val_loss: 0.0477 - val_accuracy: 0.9911\n",
            "Epoch 5/40\n",
            "644/644 [==============================] - 13s 20ms/step - loss: 0.0365 - accuracy: 0.9900 - val_loss: 0.0411 - val_accuracy: 0.9913\n",
            "Epoch 6/40\n",
            "644/644 [==============================] - 12s 19ms/step - loss: 0.0379 - accuracy: 0.9894 - val_loss: 0.0377 - val_accuracy: 0.9928\n",
            "Epoch 7/40\n",
            "644/644 [==============================] - 12s 18ms/step - loss: 0.0363 - accuracy: 0.9895 - val_loss: 0.0356 - val_accuracy: 0.9913\n",
            "Epoch 8/40\n",
            "644/644 [==============================] - 13s 20ms/step - loss: 0.0411 - accuracy: 0.9883 - val_loss: 0.0353 - val_accuracy: 0.9911\n",
            "Epoch 9/40\n",
            "644/644 [==============================] - 13s 21ms/step - loss: 0.0356 - accuracy: 0.9899 - val_loss: 0.0439 - val_accuracy: 0.9918\n",
            "Epoch 10/40\n",
            "644/644 [==============================] - 13s 20ms/step - loss: 0.0341 - accuracy: 0.9914 - val_loss: 0.0403 - val_accuracy: 0.9924\n",
            "Epoch 11/40\n",
            "644/644 [==============================] - 13s 20ms/step - loss: 0.0353 - accuracy: 0.9899 - val_loss: 0.0417 - val_accuracy: 0.9907\n",
            "Epoch 12/40\n",
            "644/644 [==============================] - 15s 23ms/step - loss: 0.0380 - accuracy: 0.9885 - val_loss: 0.0352 - val_accuracy: 0.9924\n",
            "Epoch 13/40\n",
            "644/644 [==============================] - 13s 21ms/step - loss: 0.0336 - accuracy: 0.9910 - val_loss: 0.0371 - val_accuracy: 0.9916\n",
            "Epoch 14/40\n",
            "644/644 [==============================] - 14s 21ms/step - loss: 0.0318 - accuracy: 0.9899 - val_loss: 0.0328 - val_accuracy: 0.9924\n",
            "Epoch 15/40\n",
            "644/644 [==============================] - 13s 20ms/step - loss: 0.0322 - accuracy: 0.9916 - val_loss: 0.0414 - val_accuracy: 0.9887\n",
            "Epoch 16/40\n",
            "644/644 [==============================] - 21s 33ms/step - loss: 0.0308 - accuracy: 0.9905 - val_loss: 0.0394 - val_accuracy: 0.9907\n",
            "Epoch 17/40\n",
            "644/644 [==============================] - 17s 26ms/step - loss: 0.0397 - accuracy: 0.9899 - val_loss: 0.0356 - val_accuracy: 0.9924\n",
            "Epoch 18/40\n",
            "644/644 [==============================] - 13s 21ms/step - loss: 0.0294 - accuracy: 0.9910 - val_loss: 0.0349 - val_accuracy: 0.9918\n",
            "Epoch 19/40\n",
            "644/644 [==============================] - 13s 20ms/step - loss: 0.0328 - accuracy: 0.9904 - val_loss: 0.0389 - val_accuracy: 0.9930\n",
            "Epoch 20/40\n",
            "644/644 [==============================] - 14s 21ms/step - loss: 0.0329 - accuracy: 0.9914 - val_loss: 0.0401 - val_accuracy: 0.9915\n",
            "Epoch 21/40\n",
            "644/644 [==============================] - 13s 19ms/step - loss: 0.0332 - accuracy: 0.9910 - val_loss: 0.0323 - val_accuracy: 0.9928\n",
            "Epoch 22/40\n",
            "644/644 [==============================] - 14s 21ms/step - loss: 0.0316 - accuracy: 0.9915 - val_loss: 0.0389 - val_accuracy: 0.9924\n",
            "Epoch 23/40\n",
            "644/644 [==============================] - 11s 17ms/step - loss: 0.0328 - accuracy: 0.9913 - val_loss: 0.0365 - val_accuracy: 0.9932\n",
            "Epoch 24/40\n",
            "644/644 [==============================] - 10s 15ms/step - loss: 0.0295 - accuracy: 0.9917 - val_loss: 0.0383 - val_accuracy: 0.9926\n",
            "Epoch 25/40\n",
            "644/644 [==============================] - 11s 17ms/step - loss: 0.0325 - accuracy: 0.9918 - val_loss: 0.0373 - val_accuracy: 0.9903\n",
            "Epoch 26/40\n",
            "644/644 [==============================] - 12s 18ms/step - loss: 0.0287 - accuracy: 0.9918 - val_loss: 0.0372 - val_accuracy: 0.9940\n",
            "Epoch 27/40\n",
            "644/644 [==============================] - 14s 22ms/step - loss: 0.0399 - accuracy: 0.9887 - val_loss: 0.0372 - val_accuracy: 0.9926\n",
            "Epoch 28/40\n",
            "644/644 [==============================] - 14s 22ms/step - loss: 0.0329 - accuracy: 0.9907 - val_loss: 0.1212 - val_accuracy: 0.9639\n",
            "Epoch 29/40\n",
            "644/644 [==============================] - 14s 22ms/step - loss: 0.0363 - accuracy: 0.9907 - val_loss: 0.0342 - val_accuracy: 0.9936\n",
            "Epoch 30/40\n",
            "644/644 [==============================] - 14s 21ms/step - loss: 0.0313 - accuracy: 0.9920 - val_loss: 0.0440 - val_accuracy: 0.9922\n",
            "Epoch 31/40\n",
            "644/644 [==============================] - 17s 27ms/step - loss: 0.0322 - accuracy: 0.9914 - val_loss: 0.0361 - val_accuracy: 0.9936\n",
            "Epoch 32/40\n",
            "644/644 [==============================] - 14s 21ms/step - loss: 0.0316 - accuracy: 0.9913 - val_loss: 0.0391 - val_accuracy: 0.9916\n",
            "Epoch 33/40\n",
            "644/644 [==============================] - 14s 22ms/step - loss: 0.0348 - accuracy: 0.9907 - val_loss: 0.0339 - val_accuracy: 0.9934\n",
            "Epoch 34/40\n",
            "644/644 [==============================] - 14s 21ms/step - loss: 0.0301 - accuracy: 0.9916 - val_loss: 0.0375 - val_accuracy: 0.9942\n",
            "Epoch 35/40\n",
            "644/644 [==============================] - 14s 22ms/step - loss: 0.0376 - accuracy: 0.9910 - val_loss: 0.0422 - val_accuracy: 0.9928\n",
            "Epoch 36/40\n",
            "644/644 [==============================] - 17s 27ms/step - loss: 0.0326 - accuracy: 0.9914 - val_loss: 0.0321 - val_accuracy: 0.9922\n",
            "Epoch 37/40\n",
            "644/644 [==============================] - 15s 23ms/step - loss: 0.0376 - accuracy: 0.9907 - val_loss: 0.0430 - val_accuracy: 0.9872\n",
            "Epoch 38/40\n",
            "644/644 [==============================] - 13s 20ms/step - loss: 0.0328 - accuracy: 0.9906 - val_loss: 0.0367 - val_accuracy: 0.9928\n",
            "Epoch 39/40\n",
            "644/644 [==============================] - 15s 23ms/step - loss: 0.0337 - accuracy: 0.9915 - val_loss: 0.0354 - val_accuracy: 0.9920\n",
            "Epoch 40/40\n",
            "644/644 [==============================] - 16s 24ms/step - loss: 0.0324 - accuracy: 0.9914 - val_loss: 0.0395 - val_accuracy: 0.9915\n"
          ]
        }
      ]
    },
    {
      "cell_type": "code",
      "source": [
        "import pandas as pd\n",
        "metrics = pd.DataFrame(historique.history)"
      ],
      "metadata": {
        "id": "nga_83kdQvcp"
      },
      "execution_count": 29,
      "outputs": []
    },
    {
      "cell_type": "code",
      "source": [
        "plt.figure(figsize=(10,10))\n",
        "metrics[[\"loss\"]].plot();\n"
      ],
      "metadata": {
        "colab": {
          "base_uri": "https://localhost:8080/",
          "height": 282
        },
        "id": "KvNRqL-qe4YT",
        "outputId": "4bc389fc-fe0a-44ea-e859-3888486eabf1"
      },
      "execution_count": 33,
      "outputs": [
        {
          "output_type": "display_data",
          "data": {
            "text/plain": [
              "<Figure size 720x720 with 0 Axes>"
            ]
          },
          "metadata": {}
        },
        {
          "output_type": "display_data",
          "data": {
            "text/plain": [
              "<Figure size 432x288 with 1 Axes>"
            ],
            "image/png": "[encoded data removed]"
          },
          "metadata": {
            "needs_background": "light"
          }
        }
      ]
    },
    {
      "cell_type": "code",
      "source": [
        "metrics[[\"accuracy\"]].plot();\n"
      ],
      "metadata": {
        "colab": {
          "base_uri": "https://localhost:8080/",
          "height": 265
        },
        "id": "rIkVYySmhZJ2",
        "outputId": "fddd3fbc-9aac-4a89-db5b-0461ade07a6a"
      },
      "execution_count": 32,
      "outputs": [
        {
          "output_type": "display_data",
          "data": {
            "text/plain": [
              "<Figure size 432x288 with 1 Axes>"
            ],
            "image/png": "[encoded data removed]"
          },
          "metadata": {
            "needs_background": "light"
          }
        }
      ]
    },
    {
      "cell_type": "code",
      "source": [],
      "metadata": {
        "id": "v9eJS5w-hwoQ"
      },
      "execution_count": null,
      "outputs": []
    }
  ]
}