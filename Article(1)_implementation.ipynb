{
  "nbformat": 4,
  "nbformat_minor": 0,
  "metadata": {
    "colab": {
      "provenance": []
    },
    "kernelspec": {
      "name": "python3",
      "display_name": "Python 3"
    },
    "language_info": {
      "name": "python"
    },
    "accelerator": "GPU",
    "gpuClass": "standard"
  },
  "cells": [
    {
      "cell_type": "code",
      "source": [
        "import pathlib\n",
        "import os\n",
        "\n",
        "import cv2\n",
        "import numpy as np\n",
        "import requests\n",
        "import matplotlib.pyplot as plt\n",
        "import matplotlib.image as mpimg\n",
        "import sys\n",
        "import datetime\n",
        "from tensorflow import keras\n",
        "from tensorflow.keras.models import Model\n",
        "import tensorflow as tf\n",
        "from tensorflow.keras import layers\n"
      ],
      "metadata": {
        "id": "hlUveTCOutF8"
      },
      "execution_count": 1,
      "outputs": []
    },
    {
      "cell_type": "code",
      "source": [
        "from google.colab import drive\n",
        "drive.mount('/content/drive')"
      ],
      "metadata": {
        "colab": {
          "base_uri": "https://localhost:8080/"
        },
        "id": "7T7IMBQ5CBLV",
        "outputId": "d27782a3-1f47-481f-e954-4ee8b420c000"
      },
      "execution_count": null,
      "outputs": [
        {
          "output_type": "stream",
          "name": "stdout",
          "text": [
            "Mounted at /content/drive\n"
          ]
        }
      ]
    },
    {
      "cell_type": "code",
      "source": [
        "data_dir = '/content/drive/MyDrive/archive.zip'\n",
        "import zipfile\n",
        "with zipfile.ZipFile(data_dir, 'r') as zip_ref:\n",
        "    zip_ref.extractall('/content/datasets')"
      ],
      "metadata": {
        "id": "cEC4rHP7CmHw"
      },
      "execution_count": null,
      "outputs": []
    },
    {
      "cell_type": "code",
      "source": [
        "data_dir = pathlib.Path('/content/datasets/AMHCD_64/AMHCD_64')\n",
        "print(\"Le répertoire de données : {} \".format(data_dir))"
      ],
      "metadata": {
        "colab": {
          "base_uri": "https://localhost:8080/"
        },
        "id": "HRIlNz8GCCjD",
        "outputId": "dffc011a-aca3-43e5-f57a-17d2a0e7d3f9"
      },
      "execution_count": null,
      "outputs": [
        {
          "output_type": "stream",
          "name": "stdout",
          "text": [
            "Le répertoire de données : /content/datasets/AMHCD_64/AMHCD_64 \n"
          ]
        }
      ]
    },
    {
      "cell_type": "code",
      "source": [
        "image_count = len(list(data_dir.glob('*/*')))\n",
        "print(\"Nombre des images de la base de données : {} \".format(image_count))"
      ],
      "metadata": {
        "colab": {
          "base_uri": "https://localhost:8080/"
        },
        "id": "p1oRY9YCDhPD",
        "outputId": "c1426897-7d9e-4d1b-d023-979730dbf3e8"
      },
      "execution_count": null,
      "outputs": [
        {
          "output_type": "stream",
          "name": "stdout",
          "text": [
            "Nombre des images de la base de données : 25740 \n"
          ]
        }
      ]
    },
    {
      "cell_type": "code",
      "source": [
        "#Exemple d'une image\n",
        "image = plt.imread(\"/content/datasets/AMHCD_64/AMHCD_64/ya/ya_1.jpeg\")\n",
        "plt.imshow(image)"
      ],
      "metadata": {
        "colab": {
          "base_uri": "https://localhost:8080/",
          "height": 285
        },
        "id": "VDHge0vUoHsP",
        "outputId": "9aa8859c-4274-4bfd-b9cc-63996c38156e"
      },
      "execution_count": null,
      "outputs": [
        {
          "output_type": "execute_result",
          "data": {
            "text/plain": [
              "<matplotlib.image.AxesImage at 0x7fbb19865dc0>"
            ]
          },
          "metadata": {},
          "execution_count": 6
        },
        {
          "output_type": "display_data",
          "data": {
            "text/plain": [
              "<Figure size 432x288 with 1 Axes>"
            ],
            "image/png": "[encoded data removed]"
          },
          "metadata": {
            "needs_background": "light"
          }
        }
      ]
    },
    {
      "cell_type": "code",
      "source": [
        "#Dimension des image\n",
        "image.shape"
      ],
      "metadata": {
        "colab": {
          "base_uri": "https://localhost:8080/"
        },
        "id": "dYsmENAiopoy",
        "outputId": "6c18d050-2e06-44f4-cacf-00115638a8e4"
      },
      "execution_count": null,
      "outputs": [
        {
          "output_type": "execute_result",
          "data": {
            "text/plain": [
              "(64, 64, 3)"
            ]
          },
          "metadata": {},
          "execution_count": 7
        }
      ]
    },
    {
      "cell_type": "code",
      "source": [
        "#Taille des images\n",
        "img_height = 32\n",
        "img_width = 32"
      ],
      "metadata": {
        "id": "CCTdtzDHHCUy"
      },
      "execution_count": null,
      "outputs": []
    },
    {
      "cell_type": "code",
      "source": [
        "# train_data est un objet tensor, chaque élement est un tuple (image,label) \n",
        "train_data = tf.keras.preprocessing.image_dataset_from_directory(\n",
        "  data_dir,\n",
        "  validation_split=0.2,\n",
        "  subset=\"training\",\n",
        "  seed=42,\n",
        "  image_size=(img_height, img_width),\n",
        "  #batch_size=1,\n",
        "  )\n"
      ],
      "metadata": {
        "colab": {
          "base_uri": "https://localhost:8080/"
        },
        "id": "jqmHU3WfDnu4",
        "outputId": "3d950d12-1a87-40e5-8fb4-77e8a2a6b93e"
      },
      "execution_count": null,
      "outputs": [
        {
          "output_type": "stream",
          "name": "stdout",
          "text": [
            "Found 25740 files belonging to 33 classes.\n",
            "Using 20592 files for training.\n"
          ]
        }
      ]
    },
    {
      "cell_type": "code",
      "source": [
        "# val_data est un objet tensor, chaque élement est un tuple (image,label) \n",
        "val_data = tf.keras.preprocessing.image_dataset_from_directory(\n",
        "  data_dir,\n",
        "  validation_split=0.2,\n",
        "  subset=\"validation\",\n",
        "  seed=42,\n",
        "  image_size=(img_height, img_width),\n",
        "  #batch_size=batch_size,\n",
        "  )"
      ],
      "metadata": {
        "colab": {
          "base_uri": "https://localhost:8080/"
        },
        "id": "ibL3wnq-EiNL",
        "outputId": "1869a496-bea5-4e9a-cee8-f294a4df3bf9"
      },
      "execution_count": null,
      "outputs": [
        {
          "output_type": "stream",
          "name": "stdout",
          "text": [
            "Found 25740 files belonging to 33 classes.\n",
            "Using 5148 files for validation.\n"
          ]
        }
      ]
    },
    {
      "cell_type": "code",
      "source": [
        "class_names = val_data.class_names\n",
        "print(\"Les classes :\")\n",
        "print(class_names)\n",
        "print(\"Nombre de classe : {} \".format(len(class_names)))"
      ],
      "metadata": {
        "colab": {
          "base_uri": "https://localhost:8080/"
        },
        "id": "Uayzcv4cFUXk",
        "outputId": "65b2db4c-eaf3-4cbb-ca7b-0b9b8966f9c0"
      },
      "execution_count": null,
      "outputs": [
        {
          "output_type": "stream",
          "name": "stdout",
          "text": [
            "Les classes :\n",
            "['ya', 'yab', 'yach', 'yad', 'yadd', 'yae', 'yaf', 'yag', 'yagh', 'yagw', 'yah', 'yahh', 'yaj', 'yak', 'yakw', 'yal', 'yam', 'yan', 'yaq', 'yar', 'yarr', 'yas', 'yass', 'yat', 'yatt', 'yaw', 'yax', 'yay', 'yaz', 'yazz', 'yey', 'yi', 'yu']\n",
            "Nombre de classe : 33 \n"
          ]
        }
      ]
    },
    {
      "cell_type": "code",
      "source": [
        "#Visualiser qlq données\n",
        "plt.figure(figsize=(10, 10))\n",
        "for images, labels in train_data.take(1):\n",
        "  for i in range(3):\n",
        "    ax = plt.subplot(1, 3, i + 1)\n",
        "    plt.imshow(images[i].numpy().astype(\"uint8\"))\n",
        "    plt.title(class_names[labels[i]])\n",
        "    plt.axis(\"off\")"
      ],
      "metadata": {
        "colab": {
          "base_uri": "https://localhost:8080/",
          "height": 211
        },
        "id": "k40BNZaSFiGf",
        "outputId": "c064953c-b573-442c-ad92-65e65ce900e7"
      },
      "execution_count": null,
      "outputs": [
        {
          "output_type": "display_data",
          "data": {
            "text/plain": [
              "<Figure size 720x720 with 3 Axes>"
            ],
            "image/png": "[encoded data removed]"
          },
          "metadata": {
            "needs_background": "light"
          }
        }
      ]
    },
    {
      "cell_type": "code",
      "source": [
        "num_classes = 33\n",
        "\n",
        "model = tf.keras.Sequential([\n",
        "    layers.experimental.preprocessing.Rescaling(1./255),\n",
        "    layers.Conv2D(32,(3,3), padding='same',activation='relu',input_shape=(32, 32, 3)),\n",
        "\n",
        "    layers.Conv2D(32,(3,3),padding='same', activation='relu'),\n",
        "    layers.MaxPooling2D((2,2)),\n",
        "    layers.Dropout(rate=0.5),\n",
        "\n",
        "    layers.Conv2D(64,(3,3), padding='same',activation='relu'),\n",
        "    layers.MaxPooling2D((2,2)),\n",
        "    layers.Dropout(rate=0.5),\n",
        "    \n",
        "    layers.Flatten(),\n",
        "\n",
        "    layers.Dense(64,activation='relu'),\n",
        "    layers.Dense(num_classes, activation='softmax')\n",
        "])"
      ],
      "metadata": {
        "id": "jZDEeKPCRGP7"
      },
      "execution_count": null,
      "outputs": []
    },
    {
      "cell_type": "code",
      "source": [
        "model.compile(optimizer=tf.keras.optimizers.RMSprop(learning_rate=0.001),\n",
        "              loss=tf.losses.SparseCategoricalCrossentropy(from_logits=True),\n",
        "              metrics=['accuracy'])\n",
        "\n",
        "logdir=\"logs\"\n",
        "tensorboard_callback = keras.callbacks.TensorBoard(log_dir=logdir,\n",
        "                                                   histogram_freq=1, \n",
        "                                                   write_images=logdir,\n",
        "                                                   embeddings_data=train_data)\n",
        "\n",
        "\n",
        "historique = model.fit( \n",
        "             train_data,\n",
        "             validation_data=val_data,\n",
        "             epochs=40,\n",
        "             callbacks=[tensorboard_callback]\n",
        ")"
      ],
      "metadata": {
        "colab": {
          "base_uri": "https://localhost:8080/"
        },
        "id": "qLUv-dhKHqlr",
        "outputId": "0fda9cbf-6b1b-43cc-b10a-6673f59c4122"
      },
      "execution_count": null,
      "outputs": [
        {
          "output_type": "stream",
          "name": "stderr",
          "text": [
            "WARNING:tensorflow:`embeddings_data` is not supported in TensorFlow 2.0. Instead, all `Embedding` variables will be visualized.\n"
          ]
        },
        {
          "output_type": "stream",
          "name": "stdout",
          "text": [
            "Epoch 1/40\n"
          ]
        },
        {
          "output_type": "stream",
          "name": "stderr",
          "text": [
            "/usr/local/lib/python3.8/dist-packages/tensorflow/python/util/dispatch.py:1082: UserWarning: \"`sparse_categorical_crossentropy` received `from_logits=True`, but the `output` argument was produced by a sigmoid or softmax activation and thus does not represent logits. Was this intended?\"\n",
            "  return dispatch_target(*args, **kwargs)\n"
          ]
        },
        {
          "output_type": "stream",
          "name": "stdout",
          "text": [
            "644/644 [==============================] - 18s 15ms/step - loss: 1.3304 - accuracy: 0.6328 - val_loss: 0.2145 - val_accuracy: 0.9394\n",
            "Epoch 2/40\n",
            "644/644 [==============================] - 16s 25ms/step - loss: 0.2099 - accuracy: 0.9391 - val_loss: 0.0922 - val_accuracy: 0.9718\n",
            "Epoch 3/40\n",
            "644/644 [==============================] - 12s 18ms/step - loss: 0.1249 - accuracy: 0.9628 - val_loss: 0.0621 - val_accuracy: 0.9839\n",
            "Epoch 4/40\n",
            "644/644 [==============================] - 13s 20ms/step - loss: 0.0950 - accuracy: 0.9722 - val_loss: 0.0525 - val_accuracy: 0.9860\n",
            "Epoch 5/40\n",
            "644/644 [==============================] - 11s 18ms/step - loss: 0.0752 - accuracy: 0.9776 - val_loss: 0.0567 - val_accuracy: 0.9850\n",
            "Epoch 6/40\n",
            "644/644 [==============================] - 13s 20ms/step - loss: 0.0688 - accuracy: 0.9801 - val_loss: 0.0448 - val_accuracy: 0.9893\n",
            "Epoch 7/40\n",
            "644/644 [==============================] - 21s 32ms/step - loss: 0.0620 - accuracy: 0.9813 - val_loss: 0.0451 - val_accuracy: 0.9895\n",
            "Epoch 8/40\n",
            "644/644 [==============================] - 17s 26ms/step - loss: 0.0523 - accuracy: 0.9848 - val_loss: 0.0401 - val_accuracy: 0.9913\n",
            "Epoch 9/40\n",
            "644/644 [==============================] - 17s 27ms/step - loss: 0.0481 - accuracy: 0.9851 - val_loss: 0.0414 - val_accuracy: 0.9893\n",
            "Epoch 10/40\n",
            "644/644 [==============================] - 14s 21ms/step - loss: 0.0488 - accuracy: 0.9865 - val_loss: 0.0410 - val_accuracy: 0.9907\n",
            "Epoch 11/40\n",
            "644/644 [==============================] - 18s 28ms/step - loss: 0.0400 - accuracy: 0.9881 - val_loss: 0.0410 - val_accuracy: 0.9905\n",
            "Epoch 12/40\n",
            "644/644 [==============================] - 18s 27ms/step - loss: 0.0414 - accuracy: 0.9890 - val_loss: 0.0459 - val_accuracy: 0.9897\n",
            "Epoch 13/40\n",
            "644/644 [==============================] - 20s 30ms/step - loss: 0.0379 - accuracy: 0.9888 - val_loss: 0.0508 - val_accuracy: 0.9887\n",
            "Epoch 14/40\n",
            "644/644 [==============================] - 15s 23ms/step - loss: 0.0352 - accuracy: 0.9895 - val_loss: 0.0398 - val_accuracy: 0.9893\n",
            "Epoch 15/40\n",
            "644/644 [==============================] - 15s 23ms/step - loss: 0.0374 - accuracy: 0.9889 - val_loss: 0.0441 - val_accuracy: 0.9915\n",
            "Epoch 16/40\n",
            "644/644 [==============================] - 15s 22ms/step - loss: 0.0339 - accuracy: 0.9897 - val_loss: 0.0490 - val_accuracy: 0.9897\n",
            "Epoch 17/40\n",
            "644/644 [==============================] - 15s 23ms/step - loss: 0.0317 - accuracy: 0.9902 - val_loss: 0.0444 - val_accuracy: 0.9907\n",
            "Epoch 18/40\n",
            "644/644 [==============================] - 17s 26ms/step - loss: 0.0309 - accuracy: 0.9908 - val_loss: 0.0385 - val_accuracy: 0.9920\n",
            "Epoch 19/40\n",
            "644/644 [==============================] - 15s 22ms/step - loss: 0.0322 - accuracy: 0.9909 - val_loss: 0.0406 - val_accuracy: 0.9913\n",
            "Epoch 20/40\n",
            "644/644 [==============================] - 14s 21ms/step - loss: 0.0272 - accuracy: 0.9917 - val_loss: 0.0439 - val_accuracy: 0.9918\n",
            "Epoch 21/40\n",
            "644/644 [==============================] - 17s 27ms/step - loss: 0.0277 - accuracy: 0.9925 - val_loss: 0.0376 - val_accuracy: 0.9920\n",
            "Epoch 22/40\n",
            "644/644 [==============================] - 17s 27ms/step - loss: 0.0285 - accuracy: 0.9925 - val_loss: 0.0406 - val_accuracy: 0.9922\n",
            "Epoch 23/40\n",
            "644/644 [==============================] - 18s 28ms/step - loss: 0.0271 - accuracy: 0.9928 - val_loss: 0.0423 - val_accuracy: 0.9928\n",
            "Epoch 24/40\n",
            "644/644 [==============================] - 17s 26ms/step - loss: 0.0272 - accuracy: 0.9922 - val_loss: 0.0389 - val_accuracy: 0.9934\n",
            "Epoch 25/40\n",
            "644/644 [==============================] - 18s 27ms/step - loss: 0.0262 - accuracy: 0.9926 - val_loss: 0.0350 - val_accuracy: 0.9938\n",
            "Epoch 26/40\n",
            "644/644 [==============================] - 16s 25ms/step - loss: 0.0255 - accuracy: 0.9930 - val_loss: 0.0399 - val_accuracy: 0.9920\n",
            "Epoch 27/40\n",
            "644/644 [==============================] - 18s 28ms/step - loss: 0.0267 - accuracy: 0.9930 - val_loss: 0.0450 - val_accuracy: 0.9897\n",
            "Epoch 28/40\n",
            "644/644 [==============================] - 18s 28ms/step - loss: 0.0265 - accuracy: 0.9927 - val_loss: 0.0440 - val_accuracy: 0.9909\n",
            "Epoch 29/40\n",
            "644/644 [==============================] - 15s 24ms/step - loss: 0.0240 - accuracy: 0.9931 - val_loss: 0.0498 - val_accuracy: 0.9918\n",
            "Epoch 30/40\n",
            "644/644 [==============================] - 17s 26ms/step - loss: 0.0246 - accuracy: 0.9935 - val_loss: 0.0446 - val_accuracy: 0.9918\n",
            "Epoch 31/40\n",
            "644/644 [==============================] - 18s 28ms/step - loss: 0.0243 - accuracy: 0.9935 - val_loss: 0.0407 - val_accuracy: 0.9907\n",
            "Epoch 32/40\n",
            "644/644 [==============================] - 17s 26ms/step - loss: 0.0275 - accuracy: 0.9920 - val_loss: 0.0411 - val_accuracy: 0.9915\n",
            "Epoch 33/40\n",
            "644/644 [==============================] - 25s 39ms/step - loss: 0.0256 - accuracy: 0.9932 - val_loss: 0.0415 - val_accuracy: 0.9905\n",
            "Epoch 34/40\n",
            "644/644 [==============================] - 17s 26ms/step - loss: 0.0262 - accuracy: 0.9928 - val_loss: 0.0470 - val_accuracy: 0.9907\n",
            "Epoch 35/40\n",
            "644/644 [==============================] - 17s 26ms/step - loss: 0.0247 - accuracy: 0.9929 - val_loss: 0.0472 - val_accuracy: 0.9899\n",
            "Epoch 36/40\n",
            "644/644 [==============================] - 15s 23ms/step - loss: 0.0227 - accuracy: 0.9937 - val_loss: 0.0419 - val_accuracy: 0.9915\n",
            "Epoch 37/40\n",
            "644/644 [==============================] - 14s 21ms/step - loss: 0.0207 - accuracy: 0.9943 - val_loss: 0.0387 - val_accuracy: 0.9928\n",
            "Epoch 38/40\n",
            "644/644 [==============================] - 18s 28ms/step - loss: 0.0212 - accuracy: 0.9951 - val_loss: 0.1771 - val_accuracy: 0.9544\n",
            "Epoch 39/40\n",
            "644/644 [==============================] - 19s 29ms/step - loss: 0.0202 - accuracy: 0.9941 - val_loss: 0.0489 - val_accuracy: 0.9918\n",
            "Epoch 40/40\n",
            "644/644 [==============================] - 15s 24ms/step - loss: 0.0246 - accuracy: 0.9933 - val_loss: 0.0434 - val_accuracy: 0.9930\n"
          ]
        }
      ]
    },
    {
      "cell_type": "code",
      "source": [
        "model.summary()"
      ],
      "metadata": {
        "colab": {
          "base_uri": "https://localhost:8080/"
        },
        "id": "ro3tmhLxxSEG",
        "outputId": "95f84796-c4a4-470c-9b54-88b2c52eeb25"
      },
      "execution_count": null,
      "outputs": [
        {
          "output_type": "stream",
          "name": "stdout",
          "text": [
            "Model: \"sequential\"\n",
            "_________________________________________________________________\n",
            " Layer (type)                Output Shape              Param #   \n",
            "=================================================================\n",
            " rescaling (Rescaling)       (None, 32, 32, 3)         0         \n",
            "                                                                 \n",
            " conv2d (Conv2D)             (None, 32, 32, 32)        896       \n",
            "                                                                 \n",
            " conv2d_1 (Conv2D)           (None, 32, 32, 32)        9248      \n",
            "                                                                 \n",
            " max_pooling2d (MaxPooling2D  (None, 16, 16, 32)       0         \n",
            " )                                                               \n",
            "                                                                 \n",
            " dropout (Dropout)           (None, 16, 16, 32)        0         \n",
            "                                                                 \n",
            " conv2d_2 (Conv2D)           (None, 16, 16, 64)        18496     \n",
            "                                                                 \n",
            " max_pooling2d_1 (MaxPooling  (None, 8, 8, 64)         0         \n",
            " 2D)                                                             \n",
            "                                                                 \n",
            " dropout_1 (Dropout)         (None, 8, 8, 64)          0         \n",
            "                                                                 \n",
            " flatten (Flatten)           (None, 4096)              0         \n",
            "                                                                 \n",
            " dense (Dense)               (None, 64)                262208    \n",
            "                                                                 \n",
            " dense_1 (Dense)             (None, 33)                2145      \n",
            "                                                                 \n",
            "=================================================================\n",
            "Total params: 292,993\n",
            "Trainable params: 292,993\n",
            "Non-trainable params: 0\n",
            "_________________________________________________________________\n"
          ]
        }
      ]
    },
    {
      "cell_type": "code",
      "source": [
        "import pandas as pd\n",
        "metrics = pd.DataFrame(historique.history)"
      ],
      "metadata": {
        "id": "nga_83kdQvcp"
      },
      "execution_count": null,
      "outputs": []
    },
    {
      "cell_type": "code",
      "source": [
        "plt.figure(figsize=(10,10))\n",
        "plt.ylim([0,1])\n",
        "plt.xlim([0,30])\n",
        "plt.plot(metrics[[\"loss\",\"val_loss\"]])\n",
        "plt.grid(True)\n",
        "plt.show()"
      ],
      "metadata": {
        "id": "KvNRqL-qe4YT",
        "colab": {
          "base_uri": "https://localhost:8080/",
          "height": 596
        },
        "outputId": "7e6850c8-0d2c-4a61-b023-aa0bfd9f4789"
      },
      "execution_count": null,
      "outputs": [
        {
          "output_type": "display_data",
          "data": {
            "text/plain": [
              "<Figure size 720x720 with 1 Axes>"
            ],
            "image/png": "[encoded data removed]"
          },
          "metadata": {
            "needs_background": "light"
          }
        }
      ]
    },
    {
      "cell_type": "code",
      "source": [
        "plt.figure(figsize=(10,10))\n",
        "plt.ylim([0,1])\n",
        "plt.xlim([0,30])\n",
        "plt.plot(metrics[[\"accuracy\",\"val_accuracy\"]])\n",
        "plt.grid(True)\n",
        "plt.show()"
      ],
      "metadata": {
        "colab": {
          "base_uri": "https://localhost:8080/",
          "height": 596
        },
        "id": "rIkVYySmhZJ2",
        "outputId": "5db0858c-498b-4c69-80da-a23526faa812"
      },
      "execution_count": null,
      "outputs": [
        {
          "output_type": "display_data",
          "data": {
            "text/plain": [
              "<Figure size 720x720 with 1 Axes>"
            ],
            "image/png": "[encoded data removed]"
          },
          "metadata": {
            "needs_background": "light"
          }
        }
      ]
    },
    {
      "cell_type": "code",
      "source": [
        "  #model.save('/content/drive/MyDrive/models(mini-projet-ml)/cnn_model1.h5')\n"
      ],
      "metadata": {
        "id": "NKmtogU8aOu1"
      },
      "execution_count": null,
      "outputs": []
    },
    {
      "cell_type": "code",
      "source": [
        "#--------------------------------------------------------------------------------------------------------------"
      ],
      "metadata": {
        "id": "v9eJS5w-hwoQ"
      },
      "execution_count": null,
      "outputs": []
    },
    {
      "cell_type": "code",
      "source": [],
      "metadata": {
        "id": "W7DAh1nDmMc8"
      },
      "execution_count": null,
      "outputs": []
    }
  ]
}