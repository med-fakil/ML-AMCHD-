{
  "nbformat": 4,
  "nbformat_minor": 0,
  "metadata": {
    "colab": {
      "provenance": [],
      "authorship_tag": "ABX9TyPWJaQ/v5RwLsFb0py4TPPp",
      "include_colab_link": true
    },
    "kernelspec": {
      "name": "python3",
      "display_name": "Python 3"
    },
    "language_info": {
      "name": "python"
    },
    "accelerator": "GPU",
    "gpuClass": "standard"
  },
  "cells": [
    {
      "cell_type": "markdown",
      "metadata": {
        "id": "view-in-github",
        "colab_type": "text"
      },
      "source": [
        "<a href=\"https://colab.research.google.com/github/med-fakil/ML-AMCHD-/blob/main/Mini_projet_ML(tentative%204).ipynb\" target=\"_parent\"><img src=\"https://colab.research.google.com/assets/colab-badge.svg\" alt=\"Open In Colab\"/></a>"
      ]
    },
    {
      "cell_type": "code",
      "source": [
        "import pathlib\n",
        "import os\n",
        "\n",
        "import cv2\n",
        "import numpy as np\n",
        "import requests\n",
        "import matplotlib.pyplot as plt\n",
        "import matplotlib.image as mpimg\n",
        "import sys\n",
        "import datetime\n",
        "from tensorflow import keras\n",
        "from tensorflow.keras.models import Model\n",
        "import tensorflow as tf\n",
        "from tensorflow.keras import layers\n"
      ],
      "metadata": {
        "id": "hlUveTCOutF8"
      },
      "execution_count": 27,
      "outputs": []
    },
    {
      "cell_type": "code",
      "source": [
        "from google.colab import drive\n",
        "drive.mount('/content/drive')"
      ],
      "metadata": {
        "colab": {
          "base_uri": "https://localhost:8080/"
        },
        "id": "7T7IMBQ5CBLV",
        "outputId": "e058cb33-a697-497a-f88b-a01f398234ab"
      },
      "execution_count": 28,
      "outputs": [
        {
          "output_type": "stream",
          "name": "stdout",
          "text": [
            "Drive already mounted at /content/drive; to attempt to forcibly remount, call drive.mount(\"/content/drive\", force_remount=True).\n"
          ]
        }
      ]
    },
    {
      "cell_type": "code",
      "source": [
        "data_dir = '/content/drive/MyDrive/archive.zip'\n",
        "import zipfile\n",
        "with zipfile.ZipFile(data_dir, 'r') as zip_ref:\n",
        "    zip_ref.extractall('/content/datasets')"
      ],
      "metadata": {
        "id": "cEC4rHP7CmHw"
      },
      "execution_count": 29,
      "outputs": []
    },
    {
      "cell_type": "code",
      "source": [
        "data_dir = pathlib.Path('/content/datasets/AMHCD_64/AMHCD_64')\n",
        "print(\"Le répertoire de données : {} \".format(data_dir))"
      ],
      "metadata": {
        "colab": {
          "base_uri": "https://localhost:8080/"
        },
        "id": "HRIlNz8GCCjD",
        "outputId": "112c8727-bb01-4509-f7f6-3b2a180ffaa3"
      },
      "execution_count": 30,
      "outputs": [
        {
          "output_type": "stream",
          "name": "stdout",
          "text": [
            "Le répertoire de données : /content/datasets/AMHCD_64/AMHCD_64 \n"
          ]
        }
      ]
    },
    {
      "cell_type": "code",
      "source": [
        "image_count = len(list(data_dir.glob('*/*')))\n",
        "print(\"Nombre des images de la base de données : {} \".format(image_count))"
      ],
      "metadata": {
        "colab": {
          "base_uri": "https://localhost:8080/"
        },
        "id": "p1oRY9YCDhPD",
        "outputId": "7317bc2d-69e3-4b05-9cee-daa364ffd3d7"
      },
      "execution_count": 31,
      "outputs": [
        {
          "output_type": "stream",
          "name": "stdout",
          "text": [
            "Nombre des images de la base de données : 25740 \n"
          ]
        }
      ]
    },
    {
      "cell_type": "code",
      "source": [
        "#Exemple d'une image\n",
        "image = plt.imread(\"/content/datasets/AMHCD_64/AMHCD_64/ya/ya_1.jpeg\")\n",
        "plt.imshow(image)"
      ],
      "metadata": {
        "colab": {
          "base_uri": "https://localhost:8080/",
          "height": 285
        },
        "id": "VDHge0vUoHsP",
        "outputId": "8721b9be-86b1-45bc-c027-0ebc190b5c86"
      },
      "execution_count": 32,
      "outputs": [
        {
          "output_type": "execute_result",
          "data": {
            "text/plain": [
              "<matplotlib.image.AxesImage at 0x7fafe2b50e50>"
            ]
          },
          "metadata": {},
          "execution_count": 32
        },
        {
          "output_type": "display_data",
          "data": {
            "text/plain": [
              "<Figure size 432x288 with 1 Axes>"
            ],
            "image/png": "[encoded data removed]"
          },
          "metadata": {
            "needs_background": "light"
          }
        }
      ]
    },
    {
      "cell_type": "code",
      "source": [
        "#Dimension des image\n",
        "image.shape"
      ],
      "metadata": {
        "colab": {
          "base_uri": "https://localhost:8080/"
        },
        "id": "dYsmENAiopoy",
        "outputId": "4f9a02f8-7604-4b51-c715-c1249ddb8b19"
      },
      "execution_count": 33,
      "outputs": [
        {
          "output_type": "execute_result",
          "data": {
            "text/plain": [
              "(64, 64, 3)"
            ]
          },
          "metadata": {},
          "execution_count": 33
        }
      ]
    },
    {
      "cell_type": "code",
      "source": [
        "#Taille des images\n",
        "img_height = 32\n",
        "img_width = 32"
      ],
      "metadata": {
        "id": "CCTdtzDHHCUy"
      },
      "execution_count": 34,
      "outputs": []
    },
    {
      "cell_type": "code",
      "source": [
        "# train_data est un objet tensor, chaque élement est un tuple (image,label) \n",
        "train_data = tf.keras.preprocessing.image_dataset_from_directory(\n",
        "  data_dir,\n",
        "  validation_split=0.2,\n",
        "  subset=\"training\",\n",
        "  seed=42,\n",
        "  image_size=(img_height, img_width),\n",
        "  #batch_size=batch_size,\n",
        "  )\n"
      ],
      "metadata": {
        "colab": {
          "base_uri": "https://localhost:8080/"
        },
        "id": "jqmHU3WfDnu4",
        "outputId": "fd9bfe78-c2fc-49e1-92f2-6b2d8eb74ca0"
      },
      "execution_count": 35,
      "outputs": [
        {
          "output_type": "stream",
          "name": "stdout",
          "text": [
            "Found 25740 files belonging to 33 classes.\n",
            "Using 20592 files for training.\n"
          ]
        }
      ]
    },
    {
      "cell_type": "code",
      "source": [
        "# val_data est un objet tensor, chaque élement est un tuple (image,label) \n",
        "val_data = tf.keras.preprocessing.image_dataset_from_directory(\n",
        "  data_dir,\n",
        "  validation_split=0.2,\n",
        "  subset=\"validation\",\n",
        "  seed=42,\n",
        "  image_size=(img_height, img_width),\n",
        "  #batch_size=batch_size,\n",
        "  )"
      ],
      "metadata": {
        "colab": {
          "base_uri": "https://localhost:8080/"
        },
        "id": "ibL3wnq-EiNL",
        "outputId": "cd867287-6951-4d43-924d-2506e0029dc6"
      },
      "execution_count": 36,
      "outputs": [
        {
          "output_type": "stream",
          "name": "stdout",
          "text": [
            "Found 25740 files belonging to 33 classes.\n",
            "Using 5148 files for validation.\n"
          ]
        }
      ]
    },
    {
      "cell_type": "code",
      "source": [
        "class_names = val_data.class_names\n",
        "print(\"Les classes :\")\n",
        "print(class_names)\n",
        "print(\"Nombre de classe : {} \".format(len(class_names)))"
      ],
      "metadata": {
        "colab": {
          "base_uri": "https://localhost:8080/"
        },
        "id": "Uayzcv4cFUXk",
        "outputId": "26384e08-66ae-4826-ea6a-c8b7a02caffd"
      },
      "execution_count": 37,
      "outputs": [
        {
          "output_type": "stream",
          "name": "stdout",
          "text": [
            "Les classes :\n",
            "['ya', 'yab', 'yach', 'yad', 'yadd', 'yae', 'yaf', 'yag', 'yagh', 'yagw', 'yah', 'yahh', 'yaj', 'yak', 'yakw', 'yal', 'yam', 'yan', 'yaq', 'yar', 'yarr', 'yas', 'yass', 'yat', 'yatt', 'yaw', 'yax', 'yay', 'yaz', 'yazz', 'yey', 'yi', 'yu']\n",
            "Nombre de classe : 33 \n"
          ]
        }
      ]
    },
    {
      "cell_type": "code",
      "source": [
        "#Visualiser qlq données\n",
        "plt.figure(figsize=(10, 10))\n",
        "for images, labels in train_data.take(1):\n",
        "  for i in range(3):\n",
        "    ax = plt.subplot(1, 3, i + 1)\n",
        "    plt.imshow(images[i].numpy().astype(\"uint8\"))\n",
        "    plt.title(class_names[labels[i]])\n",
        "    plt.axis(\"off\")"
      ],
      "metadata": {
        "colab": {
          "base_uri": "https://localhost:8080/",
          "height": 211
        },
        "id": "k40BNZaSFiGf",
        "outputId": "3e4293aa-ed63-45cc-c1c5-8f8259eda72c"
      },
      "execution_count": 38,
      "outputs": [
        {
          "output_type": "display_data",
          "data": {
            "text/plain": [
              "<Figure size 720x720 with 3 Axes>"
            ],
            "image/png": "[encoded data removed]"
          },
          "metadata": {
            "needs_background": "light"
          }
        }
      ]
    },
    {
      "cell_type": "code",
      "source": [
        "num_classes = 33\n",
        "\n",
        "model = tf.keras.Sequential([\n",
        "    layers.experimental.preprocessing.Rescaling(1./255),\n",
        "    layers.Conv2D(32,(3,3), padding='same',activation='relu',input_shape=(32, 32, 3)),\n",
        "\n",
        "    layers.Conv2D(32,(3,3),padding='same', activation='relu'),\n",
        "    layers.MaxPooling2D((2,2)),\n",
        "    layers.Dropout(rate=0.5),\n",
        "\n",
        "    layers.Conv2D(64,(3,3), padding='same',activation='relu'),\n",
        "    layers.MaxPooling2D((2,2)),\n",
        "    layers.Dropout(rate=0.5),\n",
        "    \n",
        "    layers.Flatten(),\n",
        "\n",
        "    layers.Dense(64,activation='relu'),\n",
        "    layers.Dense(num_classes, activation='softmax')\n",
        "])"
      ],
      "metadata": {
        "id": "jZDEeKPCRGP7"
      },
      "execution_count": 40,
      "outputs": []
    },
    {
      "cell_type": "code",
      "source": [
        "model.compile(optimizer=tf.keras.optimizers.experimental.RMSprop(learning_rate=0.001),\n",
        "              loss=tf.losses.SparseCategoricalCrossentropy(from_logits=True),\n",
        "              metrics=['accuracy'])\n",
        "\n",
        "logdir=\"logs\"\n",
        "tensorboard_callback = keras.callbacks.TensorBoard(log_dir=logdir,\n",
        "                                                   histogram_freq=1, \n",
        "                                                   write_images=logdir,\n",
        "                                                   embeddings_data=train_data)\n",
        "\n",
        "\n",
        "historique = model.fit( \n",
        "             train_data,\n",
        "             validation_data=val_data,\n",
        "             epochs=40,\n",
        "             callbacks=[tensorboard_callback]\n",
        ")"
      ],
      "metadata": {
        "colab": {
          "base_uri": "https://localhost:8080/"
        },
        "id": "qLUv-dhKHqlr",
        "outputId": "e8805ba4-c9cf-4d37-d867-c7a8adb8a12c"
      },
      "execution_count": 41,
      "outputs": [
        {
          "output_type": "stream",
          "name": "stderr",
          "text": [
            "WARNING:tensorflow:`embeddings_data` is not supported in TensorFlow 2.0. Instead, all `Embedding` variables will be visualized.\n"
          ]
        },
        {
          "output_type": "stream",
          "name": "stdout",
          "text": [
            "Epoch 1/40\n",
            "644/644 [==============================] - 60s 92ms/step - loss: 1.3958 - accuracy: 0.6203 - val_loss: 0.2540 - val_accuracy: 0.9250\n",
            "Epoch 2/40\n",
            "644/644 [==============================] - 60s 93ms/step - loss: 0.2077 - accuracy: 0.9390 - val_loss: 0.1219 - val_accuracy: 0.9685\n",
            "Epoch 3/40\n",
            "644/644 [==============================] - 58s 90ms/step - loss: 0.1245 - accuracy: 0.9660 - val_loss: 0.0648 - val_accuracy: 0.9814\n",
            "Epoch 4/40\n",
            "644/644 [==============================] - 60s 93ms/step - loss: 0.0912 - accuracy: 0.9737 - val_loss: 0.0456 - val_accuracy: 0.9883\n",
            "Epoch 5/40\n",
            "644/644 [==============================] - 59s 92ms/step - loss: 0.0757 - accuracy: 0.9772 - val_loss: 0.0466 - val_accuracy: 0.9897\n",
            "Epoch 6/40\n",
            "644/644 [==============================] - 61s 94ms/step - loss: 0.0644 - accuracy: 0.9810 - val_loss: 0.0498 - val_accuracy: 0.9878\n",
            "Epoch 7/40\n",
            "644/644 [==============================] - 61s 95ms/step - loss: 0.0560 - accuracy: 0.9844 - val_loss: 0.0507 - val_accuracy: 0.9874\n",
            "Epoch 8/40\n",
            "644/644 [==============================] - 61s 94ms/step - loss: 0.0506 - accuracy: 0.9853 - val_loss: 0.0494 - val_accuracy: 0.9878\n",
            "Epoch 9/40\n",
            "644/644 [==============================] - 64s 99ms/step - loss: 0.0425 - accuracy: 0.9863 - val_loss: 0.0421 - val_accuracy: 0.9901\n",
            "Epoch 10/40\n",
            "644/644 [==============================] - 61s 94ms/step - loss: 0.0425 - accuracy: 0.9873 - val_loss: 0.0465 - val_accuracy: 0.9882\n",
            "Epoch 11/40\n",
            "644/644 [==============================] - 60s 92ms/step - loss: 0.0413 - accuracy: 0.9876 - val_loss: 0.0412 - val_accuracy: 0.9895\n",
            "Epoch 12/40\n",
            "644/644 [==============================] - 61s 94ms/step - loss: 0.0402 - accuracy: 0.9894 - val_loss: 0.0392 - val_accuracy: 0.9924\n",
            "Epoch 13/40\n",
            "644/644 [==============================] - 59s 92ms/step - loss: 0.0315 - accuracy: 0.9906 - val_loss: 0.0430 - val_accuracy: 0.9918\n",
            "Epoch 14/40\n",
            "644/644 [==============================] - 61s 94ms/step - loss: 0.0332 - accuracy: 0.9908 - val_loss: 0.0444 - val_accuracy: 0.9924\n",
            "Epoch 15/40\n",
            "644/644 [==============================] - 61s 95ms/step - loss: 0.0332 - accuracy: 0.9893 - val_loss: 0.0384 - val_accuracy: 0.9916\n",
            "Epoch 16/40\n",
            "644/644 [==============================] - 64s 99ms/step - loss: 0.0330 - accuracy: 0.9902 - val_loss: 0.0410 - val_accuracy: 0.9920\n",
            "Epoch 17/40\n",
            "644/644 [==============================] - 62s 96ms/step - loss: 0.0318 - accuracy: 0.9910 - val_loss: 0.0427 - val_accuracy: 0.9924\n",
            "Epoch 18/40\n",
            "644/644 [==============================] - 64s 99ms/step - loss: 0.0321 - accuracy: 0.9908 - val_loss: 0.0476 - val_accuracy: 0.9924\n",
            "Epoch 19/40\n",
            "644/644 [==============================] - 64s 98ms/step - loss: 0.0319 - accuracy: 0.9912 - val_loss: 0.0356 - val_accuracy: 0.9922\n",
            "Epoch 20/40\n",
            "644/644 [==============================] - 63s 98ms/step - loss: 0.0293 - accuracy: 0.9920 - val_loss: 0.0454 - val_accuracy: 0.9909\n",
            "Epoch 21/40\n",
            "644/644 [==============================] - 63s 97ms/step - loss: 0.0255 - accuracy: 0.9924 - val_loss: 0.0488 - val_accuracy: 0.9922\n",
            "Epoch 22/40\n",
            "644/644 [==============================] - 61s 95ms/step - loss: 0.0284 - accuracy: 0.9917 - val_loss: 0.0729 - val_accuracy: 0.9870\n",
            "Epoch 23/40\n",
            "644/644 [==============================] - 61s 95ms/step - loss: 0.0268 - accuracy: 0.9929 - val_loss: 0.0520 - val_accuracy: 0.9905\n",
            "Epoch 24/40\n",
            "644/644 [==============================] - 61s 95ms/step - loss: 0.0315 - accuracy: 0.9912 - val_loss: 0.0535 - val_accuracy: 0.9920\n",
            "Epoch 25/40\n",
            "644/644 [==============================] - 60s 93ms/step - loss: 0.0263 - accuracy: 0.9927 - val_loss: 0.0394 - val_accuracy: 0.9924\n",
            "Epoch 26/40\n",
            "644/644 [==============================] - 61s 94ms/step - loss: 0.0269 - accuracy: 0.9928 - val_loss: 0.0366 - val_accuracy: 0.9930\n",
            "Epoch 27/40\n",
            "644/644 [==============================] - 59s 91ms/step - loss: 0.0245 - accuracy: 0.9934 - val_loss: 0.0403 - val_accuracy: 0.9934\n",
            "Epoch 28/40\n",
            "644/644 [==============================] - 61s 95ms/step - loss: 0.0218 - accuracy: 0.9941 - val_loss: 0.0616 - val_accuracy: 0.9913\n",
            "Epoch 29/40\n",
            "644/644 [==============================] - 59s 92ms/step - loss: 0.0267 - accuracy: 0.9929 - val_loss: 0.0629 - val_accuracy: 0.9874\n",
            "Epoch 30/40\n",
            "644/644 [==============================] - 58s 90ms/step - loss: 0.0205 - accuracy: 0.9944 - val_loss: 0.0434 - val_accuracy: 0.9920\n",
            "Epoch 31/40\n",
            "644/644 [==============================] - 60s 93ms/step - loss: 0.0210 - accuracy: 0.9936 - val_loss: 0.0502 - val_accuracy: 0.9918\n",
            "Epoch 32/40\n",
            "644/644 [==============================] - 58s 91ms/step - loss: 0.0224 - accuracy: 0.9939 - val_loss: 0.0530 - val_accuracy: 0.9924\n",
            "Epoch 33/40\n",
            "644/644 [==============================] - 61s 95ms/step - loss: 0.0249 - accuracy: 0.9934 - val_loss: 0.0457 - val_accuracy: 0.9922\n",
            "Epoch 34/40\n",
            "644/644 [==============================] - 60s 93ms/step - loss: 0.0232 - accuracy: 0.9939 - val_loss: 0.0365 - val_accuracy: 0.9938\n",
            "Epoch 35/40\n",
            "644/644 [==============================] - 58s 91ms/step - loss: 0.0227 - accuracy: 0.9945 - val_loss: 0.0531 - val_accuracy: 0.9909\n",
            "Epoch 36/40\n",
            "644/644 [==============================] - 60s 93ms/step - loss: 0.0227 - accuracy: 0.9939 - val_loss: 0.0470 - val_accuracy: 0.9922\n",
            "Epoch 37/40\n",
            "644/644 [==============================] - 60s 94ms/step - loss: 0.0257 - accuracy: 0.9944 - val_loss: 0.0414 - val_accuracy: 0.9932\n",
            "Epoch 38/40\n",
            "644/644 [==============================] - 59s 92ms/step - loss: 0.0230 - accuracy: 0.9937 - val_loss: 0.0349 - val_accuracy: 0.9924\n",
            "Epoch 39/40\n",
            "644/644 [==============================] - 61s 95ms/step - loss: 0.0234 - accuracy: 0.9939 - val_loss: 0.0493 - val_accuracy: 0.9922\n",
            "Epoch 40/40\n",
            "644/644 [==============================] - 59s 91ms/step - loss: 0.0219 - accuracy: 0.9943 - val_loss: 0.0466 - val_accuracy: 0.9916\n"
          ]
        }
      ]
    },
    {
      "cell_type": "code",
      "source": [
        "model.summary()"
      ],
      "metadata": {
        "colab": {
          "base_uri": "https://localhost:8080/"
        },
        "id": "ro3tmhLxxSEG",
        "outputId": "b0be7120-9d13-41fd-f7a8-eec30feac534"
      },
      "execution_count": 42,
      "outputs": [
        {
          "output_type": "stream",
          "name": "stdout",
          "text": [
            "Model: \"sequential_2\"\n",
            "_________________________________________________________________\n",
            " Layer (type)                Output Shape              Param #   \n",
            "=================================================================\n",
            " rescaling_2 (Rescaling)     (None, 32, 32, 3)         0         \n",
            "                                                                 \n",
            " conv2d_6 (Conv2D)           (None, 32, 32, 32)        896       \n",
            "                                                                 \n",
            " conv2d_7 (Conv2D)           (None, 32, 32, 32)        9248      \n",
            "                                                                 \n",
            " max_pooling2d_4 (MaxPooling  (None, 16, 16, 32)       0         \n",
            " 2D)                                                             \n",
            "                                                                 \n",
            " dropout_4 (Dropout)         (None, 16, 16, 32)        0         \n",
            "                                                                 \n",
            " conv2d_8 (Conv2D)           (None, 16, 16, 64)        18496     \n",
            "                                                                 \n",
            " max_pooling2d_5 (MaxPooling  (None, 8, 8, 64)         0         \n",
            " 2D)                                                             \n",
            "                                                                 \n",
            " dropout_5 (Dropout)         (None, 8, 8, 64)          0         \n",
            "                                                                 \n",
            " flatten_2 (Flatten)         (None, 4096)              0         \n",
            "                                                                 \n",
            " dense_4 (Dense)             (None, 64)                262208    \n",
            "                                                                 \n",
            " dense_5 (Dense)             (None, 33)                2145      \n",
            "                                                                 \n",
            "=================================================================\n",
            "Total params: 292,993\n",
            "Trainable params: 292,993\n",
            "Non-trainable params: 0\n",
            "_________________________________________________________________\n"
          ]
        }
      ]
    },
    {
      "cell_type": "code",
      "source": [
        "import pandas as pd\n",
        "metrics = pd.DataFrame(historique.history)"
      ],
      "metadata": {
        "id": "nga_83kdQvcp"
      },
      "execution_count": 43,
      "outputs": []
    },
    {
      "cell_type": "code",
      "source": [
        "plt.figure(figsize=(10,10))\n",
        "plt.ylim([0,1])\n",
        "plt.xlim([0,30])\n",
        "plt.plot(metrics[[\"loss\",\"val_loss\"]])\n",
        "plt.grid(True)\n",
        "plt.show()"
      ],
      "metadata": {
        "id": "KvNRqL-qe4YT",
        "colab": {
          "base_uri": "https://localhost:8080/",
          "height": 596
        },
        "outputId": "7d14f0b5-44af-4b7c-fa94-f8dd02f4e71f"
      },
      "execution_count": 44,
      "outputs": [
        {
          "output_type": "display_data",
          "data": {
            "text/plain": [
              "<Figure size 720x720 with 1 Axes>"
            ],
            "image/png": "[encoded data removed]"
          },
          "metadata": {
            "needs_background": "light"
          }
        }
      ]
    },
    {
      "cell_type": "code",
      "source": [
        "plt.figure(figsize=(10,10))\n",
        "plt.ylim([0,1])\n",
        "plt.xlim([0,30])\n",
        "plt.plot(metrics[[\"accuracy\",\"val_accuracy\"]])\n",
        "plt.grid(True)\n",
        "plt.show()"
      ],
      "metadata": {
        "colab": {
          "base_uri": "https://localhost:8080/",
          "height": 596
        },
        "id": "rIkVYySmhZJ2",
        "outputId": "d64c2432-a9aa-48c2-85c6-3b4644f4d15c"
      },
      "execution_count": 45,
      "outputs": [
        {
          "output_type": "display_data",
          "data": {
            "text/plain": [
              "<Figure size 720x720 with 1 Axes>"
            ],
            "image/png": "[encoded data removed]"
          },
          "metadata": {
            "needs_background": "light"
          }
        }
      ]
    },
    {
      "cell_type": "code",
      "source": [
        "#--------------------------------------------------------------------------------------------------------------"
      ],
      "metadata": {
        "id": "v9eJS5w-hwoQ"
      },
      "execution_count": null,
      "outputs": []
    },
    {
      "cell_type": "code",
      "source": [
        "pip install scikeras"
      ],
      "metadata": {
        "colab": {
          "base_uri": "https://localhost:8080/"
        },
        "id": "6pAxLYHt8mCa",
        "outputId": "32ba22f5-22fc-43fe-cdd6-584225c37a97"
      },
      "execution_count": null,
      "outputs": [
        {
          "output_type": "stream",
          "name": "stdout",
          "text": [
            "Looking in indexes: https://pypi.org/simple, https://us-python.pkg.dev/colab-wheels/public/simple/\n",
            "Requirement already satisfied: scikeras in /usr/local/lib/python3.8/dist-packages (0.10.0)\n",
            "Requirement already satisfied: packaging>=0.21 in /usr/local/lib/python3.8/dist-packages (from scikeras) (21.3)\n",
            "Requirement already satisfied: scikit-learn>=1.0.0 in /usr/local/lib/python3.8/dist-packages (from scikeras) (1.0.2)\n",
            "Requirement already satisfied: pyparsing!=3.0.5,>=2.0.2 in /usr/local/lib/python3.8/dist-packages (from packaging>=0.21->scikeras) (3.0.9)\n",
            "Requirement already satisfied: numpy>=1.14.6 in /usr/local/lib/python3.8/dist-packages (from scikit-learn>=1.0.0->scikeras) (1.21.6)\n",
            "Requirement already satisfied: scipy>=1.1.0 in /usr/local/lib/python3.8/dist-packages (from scikit-learn>=1.0.0->scikeras) (1.7.3)\n",
            "Requirement already satisfied: joblib>=0.11 in /usr/local/lib/python3.8/dist-packages (from scikit-learn>=1.0.0->scikeras) (1.2.0)\n",
            "Requirement already satisfied: threadpoolctl>=2.0.0 in /usr/local/lib/python3.8/dist-packages (from scikit-learn>=1.0.0->scikeras) (3.1.0)\n"
          ]
        }
      ]
    },
    {
      "cell_type": "code",
      "source": [
        "from sklearn.model_selection import GridSearchCV\n",
        "from scikeras.wrappers import KerasClassifier"
      ],
      "metadata": {
        "id": "TWeQBFTs8etm"
      },
      "execution_count": null,
      "outputs": []
    },
    {
      "cell_type": "code",
      "source": [
        "def create_model():\n",
        "  # create model\n",
        "  model = tf.keras.Sequential([\n",
        "  layers.experimental.preprocessing.Rescaling(1./255),\n",
        "  layers.Conv2D(32,(3,3), activation='relu',input_shape=(32, 32, 3)),\n",
        "\n",
        "  layers.Conv2D(32,(3,3), activation='relu'),\n",
        "  layers.MaxPooling2D((2,2)),\n",
        "  layers.Dropout(rate=0.5),\n",
        "\n",
        "  layers.Conv2D(64,(3,3), activation='relu'),\n",
        "  layers.MaxPooling2D((2,2)),\n",
        "  layers.Dropout(rate=0.5),\n",
        "    \n",
        "  layers.Flatten(),\n",
        "\n",
        "  layers.Dense(64,activation='relu'),\n",
        "  layers.Dense(num_classes, activation='softmax')\n",
        "])\n",
        "   \n",
        "\t# Compile model\n",
        "  model.compile(optimizer=tf.keras.optimizers.experimental.RMSprop(learning_rate=0.001),\n",
        "              loss=tf.losses.SparseCategoricalCrossentropy(from_logits=True),\n",
        "              metrics=['accuracy'])\n",
        "  \n",
        "  return model"
      ],
      "metadata": {
        "id": "p9feLSQP8flN"
      },
      "execution_count": null,
      "outputs": []
    },
    {
      "cell_type": "code",
      "source": [
        "data_labels=[]\n",
        "data_images=[]\n",
        "for images, labels in train_data.unbatch():\n",
        "    data_labels.append(labels)\n",
        "    data_images.append(images)\n",
        "\n",
        "    "
      ],
      "metadata": {
        "id": "3ITd9Z7xBkW7"
      },
      "execution_count": null,
      "outputs": []
    },
    {
      "cell_type": "code",
      "source": [
        "# fix random seed for reproducibility\n",
        "seed = 7\n",
        "tf.random.set_seed(seed)\n",
        "\n",
        "model = KerasClassifier(model=create_model, verbose=0)\n",
        "\n",
        "# define the grid search parameters\n",
        "#batch_size = [10, 20, 40, 60, 80, 100]\n",
        "epochs = [20, 30,40,50]\n",
        "\n",
        "param_grid = dict(epochs=epochs)\n",
        "\n",
        "grid = GridSearchCV(estimator=model, param_grid=param_grid, n_jobs=-1, cv=3)\n",
        "grid_result = grid.fit(data_images,data_labels)\n"
      ],
      "metadata": {
        "colab": {
          "base_uri": "https://localhost:8080/",
          "height": 817
        },
        "id": "4aWVdQIw83dp",
        "outputId": "68fee20a-73ff-4bf3-9eb8-f7505f9131d5"
      },
      "execution_count": null,
      "outputs": [
        {
          "output_type": "stream",
          "name": "stderr",
          "text": [
            "/usr/local/lib/python3.8/dist-packages/joblib/externals/loky/process_executor.py:700: UserWarning: A worker stopped while some jobs were given to the executor. This can be caused by a too short worker timeout or by a memory leak.\n",
            "  warnings.warn(\n",
            "/usr/local/lib/python3.8/dist-packages/sklearn/model_selection/_validation.py:372: FitFailedWarning: \n",
            "12 fits failed out of a total of 12.\n",
            "The score on these train-test partitions for these parameters will be set to nan.\n",
            "If these failures are not expected, you can try to debug them by setting error_score='raise'.\n",
            "\n",
            "Below are more details about the failures:\n",
            "--------------------------------------------------------------------------------\n",
            "12 fits failed with the following error:\n",
            "Traceback (most recent call last):\n",
            "  File \"/usr/local/lib/python3.8/dist-packages/sklearn/model_selection/_validation.py\", line 680, in _fit_and_score\n",
            "    estimator.fit(X_train, y_train, **fit_params)\n",
            "  File \"/usr/local/lib/python3.8/dist-packages/scikeras/wrappers.py\", line 1494, in fit\n",
            "    super().fit(X=X, y=y, sample_weight=sample_weight, **kwargs)\n",
            "  File \"/usr/local/lib/python3.8/dist-packages/scikeras/wrappers.py\", line 762, in fit\n",
            "    self._fit(\n",
            "  File \"/usr/local/lib/python3.8/dist-packages/scikeras/wrappers.py\", line 929, in _fit\n",
            "    self._check_model_compatibility(y)\n",
            "  File \"/usr/local/lib/python3.8/dist-packages/scikeras/wrappers.py\", line 551, in _check_model_compatibility\n",
            "    if self.n_outputs_expected_ != len(self.model_.outputs):\n",
            "TypeError: object of type 'NoneType' has no len()\n",
            "\n",
            "  warnings.warn(some_fits_failed_message, FitFailedWarning)\n",
            "/usr/local/lib/python3.8/dist-packages/sklearn/model_selection/_search.py:969: UserWarning: One or more of the test scores are non-finite: [nan nan nan nan]\n",
            "  warnings.warn(\n"
          ]
        },
        {
          "output_type": "error",
          "ename": "TypeError",
          "evalue": "ignored",
          "traceback": [
            "\u001b[0;31m---------------------------------------------------------------------------\u001b[0m",
            "\u001b[0;31mTypeError\u001b[0m                                 Traceback (most recent call last)",
            "\u001b[0;32m<ipython-input-77-3d96e3a12035>\u001b[0m in \u001b[0;36m<module>\u001b[0;34m\u001b[0m\n\u001b[1;32m     12\u001b[0m \u001b[0;34m\u001b[0m\u001b[0m\n\u001b[1;32m     13\u001b[0m \u001b[0mgrid\u001b[0m \u001b[0;34m=\u001b[0m \u001b[0mGridSearchCV\u001b[0m\u001b[0;34m(\u001b[0m\u001b[0mestimator\u001b[0m\u001b[0;34m=\u001b[0m\u001b[0mmodel\u001b[0m\u001b[0;34m,\u001b[0m \u001b[0mparam_grid\u001b[0m\u001b[0;34m=\u001b[0m\u001b[0mparam_grid\u001b[0m\u001b[0;34m,\u001b[0m \u001b[0mn_jobs\u001b[0m\u001b[0;34m=\u001b[0m\u001b[0;34m-\u001b[0m\u001b[0;36m1\u001b[0m\u001b[0;34m,\u001b[0m \u001b[0mcv\u001b[0m\u001b[0;34m=\u001b[0m\u001b[0;36m3\u001b[0m\u001b[0;34m)\u001b[0m\u001b[0;34m\u001b[0m\u001b[0;34m\u001b[0m\u001b[0m\n\u001b[0;32m---> 14\u001b[0;31m \u001b[0mgrid_result\u001b[0m \u001b[0;34m=\u001b[0m \u001b[0mgrid\u001b[0m\u001b[0;34m.\u001b[0m\u001b[0mfit\u001b[0m\u001b[0;34m(\u001b[0m\u001b[0mdata_images\u001b[0m\u001b[0;34m,\u001b[0m\u001b[0mdata_labels\u001b[0m\u001b[0;34m)\u001b[0m\u001b[0;34m\u001b[0m\u001b[0;34m\u001b[0m\u001b[0m\n\u001b[0m",
            "\u001b[0;32m/usr/local/lib/python3.8/dist-packages/sklearn/model_selection/_search.py\u001b[0m in \u001b[0;36mfit\u001b[0;34m(self, X, y, groups, **fit_params)\u001b[0m\n\u001b[1;32m    924\u001b[0m             \u001b[0mrefit_start_time\u001b[0m \u001b[0;34m=\u001b[0m \u001b[0mtime\u001b[0m\u001b[0;34m.\u001b[0m\u001b[0mtime\u001b[0m\u001b[0;34m(\u001b[0m\u001b[0;34m)\u001b[0m\u001b[0;34m\u001b[0m\u001b[0;34m\u001b[0m\u001b[0m\n\u001b[1;32m    925\u001b[0m             \u001b[0;32mif\u001b[0m \u001b[0my\u001b[0m \u001b[0;32mis\u001b[0m \u001b[0;32mnot\u001b[0m \u001b[0;32mNone\u001b[0m\u001b[0;34m:\u001b[0m\u001b[0;34m\u001b[0m\u001b[0;34m\u001b[0m\u001b[0m\n\u001b[0;32m--> 926\u001b[0;31m                 \u001b[0mself\u001b[0m\u001b[0;34m.\u001b[0m\u001b[0mbest_estimator_\u001b[0m\u001b[0;34m.\u001b[0m\u001b[0mfit\u001b[0m\u001b[0;34m(\u001b[0m\u001b[0mX\u001b[0m\u001b[0;34m,\u001b[0m \u001b[0my\u001b[0m\u001b[0;34m,\u001b[0m \u001b[0;34m**\u001b[0m\u001b[0mfit_params\u001b[0m\u001b[0;34m)\u001b[0m\u001b[0;34m\u001b[0m\u001b[0;34m\u001b[0m\u001b[0m\n\u001b[0m\u001b[1;32m    927\u001b[0m             \u001b[0;32melse\u001b[0m\u001b[0;34m:\u001b[0m\u001b[0;34m\u001b[0m\u001b[0;34m\u001b[0m\u001b[0m\n\u001b[1;32m    928\u001b[0m                 \u001b[0mself\u001b[0m\u001b[0;34m.\u001b[0m\u001b[0mbest_estimator_\u001b[0m\u001b[0;34m.\u001b[0m\u001b[0mfit\u001b[0m\u001b[0;34m(\u001b[0m\u001b[0mX\u001b[0m\u001b[0;34m,\u001b[0m \u001b[0;34m**\u001b[0m\u001b[0mfit_params\u001b[0m\u001b[0;34m)\u001b[0m\u001b[0;34m\u001b[0m\u001b[0;34m\u001b[0m\u001b[0m\n",
            "\u001b[0;32m/usr/local/lib/python3.8/dist-packages/scikeras/wrappers.py\u001b[0m in \u001b[0;36mfit\u001b[0;34m(self, X, y, sample_weight, **kwargs)\u001b[0m\n\u001b[1;32m   1492\u001b[0m             \u001b[0msample_weight\u001b[0m \u001b[0;34m=\u001b[0m \u001b[0;36m1\u001b[0m \u001b[0;32mif\u001b[0m \u001b[0msample_weight\u001b[0m \u001b[0;32mis\u001b[0m \u001b[0;32mNone\u001b[0m \u001b[0;32melse\u001b[0m \u001b[0msample_weight\u001b[0m\u001b[0;34m\u001b[0m\u001b[0;34m\u001b[0m\u001b[0m\n\u001b[1;32m   1493\u001b[0m             \u001b[0msample_weight\u001b[0m \u001b[0;34m*=\u001b[0m \u001b[0mcompute_sample_weight\u001b[0m\u001b[0;34m(\u001b[0m\u001b[0mclass_weight\u001b[0m\u001b[0;34m=\u001b[0m\u001b[0mself\u001b[0m\u001b[0;34m.\u001b[0m\u001b[0mclass_weight\u001b[0m\u001b[0;34m,\u001b[0m \u001b[0my\u001b[0m\u001b[0;34m=\u001b[0m\u001b[0my\u001b[0m\u001b[0;34m)\u001b[0m\u001b[0;34m\u001b[0m\u001b[0;34m\u001b[0m\u001b[0m\n\u001b[0;32m-> 1494\u001b[0;31m         \u001b[0msuper\u001b[0m\u001b[0;34m(\u001b[0m\u001b[0;34m)\u001b[0m\u001b[0;34m.\u001b[0m\u001b[0mfit\u001b[0m\u001b[0;34m(\u001b[0m\u001b[0mX\u001b[0m\u001b[0;34m=\u001b[0m\u001b[0mX\u001b[0m\u001b[0;34m,\u001b[0m \u001b[0my\u001b[0m\u001b[0;34m=\u001b[0m\u001b[0my\u001b[0m\u001b[0;34m,\u001b[0m \u001b[0msample_weight\u001b[0m\u001b[0;34m=\u001b[0m\u001b[0msample_weight\u001b[0m\u001b[0;34m,\u001b[0m \u001b[0;34m**\u001b[0m\u001b[0mkwargs\u001b[0m\u001b[0;34m)\u001b[0m\u001b[0;34m\u001b[0m\u001b[0;34m\u001b[0m\u001b[0m\n\u001b[0m\u001b[1;32m   1495\u001b[0m         \u001b[0;32mreturn\u001b[0m \u001b[0mself\u001b[0m\u001b[0;34m\u001b[0m\u001b[0;34m\u001b[0m\u001b[0m\n\u001b[1;32m   1496\u001b[0m \u001b[0;34m\u001b[0m\u001b[0m\n",
            "\u001b[0;32m/usr/local/lib/python3.8/dist-packages/scikeras/wrappers.py\u001b[0m in \u001b[0;36mfit\u001b[0;34m(self, X, y, sample_weight, **kwargs)\u001b[0m\n\u001b[1;32m    760\u001b[0m         \u001b[0mkwargs\u001b[0m\u001b[0;34m[\u001b[0m\u001b[0;34m\"initial_epoch\"\u001b[0m\u001b[0;34m]\u001b[0m \u001b[0;34m=\u001b[0m \u001b[0mkwargs\u001b[0m\u001b[0;34m.\u001b[0m\u001b[0mget\u001b[0m\u001b[0;34m(\u001b[0m\u001b[0;34m\"initial_epoch\"\u001b[0m\u001b[0;34m,\u001b[0m \u001b[0;36m0\u001b[0m\u001b[0;34m)\u001b[0m\u001b[0;34m\u001b[0m\u001b[0;34m\u001b[0m\u001b[0m\n\u001b[1;32m    761\u001b[0m \u001b[0;34m\u001b[0m\u001b[0m\n\u001b[0;32m--> 762\u001b[0;31m         self._fit(\n\u001b[0m\u001b[1;32m    763\u001b[0m             \u001b[0mX\u001b[0m\u001b[0;34m=\u001b[0m\u001b[0mX\u001b[0m\u001b[0;34m,\u001b[0m\u001b[0;34m\u001b[0m\u001b[0;34m\u001b[0m\u001b[0m\n\u001b[1;32m    764\u001b[0m             \u001b[0my\u001b[0m\u001b[0;34m=\u001b[0m\u001b[0my\u001b[0m\u001b[0;34m,\u001b[0m\u001b[0;34m\u001b[0m\u001b[0;34m\u001b[0m\u001b[0m\n",
            "\u001b[0;32m/usr/local/lib/python3.8/dist-packages/scikeras/wrappers.py\u001b[0m in \u001b[0;36m_fit\u001b[0;34m(self, X, y, sample_weight, warm_start, epochs, initial_epoch, **kwargs)\u001b[0m\n\u001b[1;32m    927\u001b[0m         \u001b[0mX\u001b[0m \u001b[0;34m=\u001b[0m \u001b[0mself\u001b[0m\u001b[0;34m.\u001b[0m\u001b[0mfeature_encoder_\u001b[0m\u001b[0;34m.\u001b[0m\u001b[0mtransform\u001b[0m\u001b[0;34m(\u001b[0m\u001b[0mX\u001b[0m\u001b[0;34m)\u001b[0m\u001b[0;34m\u001b[0m\u001b[0;34m\u001b[0m\u001b[0m\n\u001b[1;32m    928\u001b[0m \u001b[0;34m\u001b[0m\u001b[0m\n\u001b[0;32m--> 929\u001b[0;31m         \u001b[0mself\u001b[0m\u001b[0;34m.\u001b[0m\u001b[0m_check_model_compatibility\u001b[0m\u001b[0;34m(\u001b[0m\u001b[0my\u001b[0m\u001b[0;34m)\u001b[0m\u001b[0;34m\u001b[0m\u001b[0;34m\u001b[0m\u001b[0m\n\u001b[0m\u001b[1;32m    930\u001b[0m \u001b[0;34m\u001b[0m\u001b[0m\n\u001b[1;32m    931\u001b[0m         self._fit_keras_model(\n",
            "\u001b[0;32m/usr/local/lib/python3.8/dist-packages/scikeras/wrappers.py\u001b[0m in \u001b[0;36m_check_model_compatibility\u001b[0;34m(self, y)\u001b[0m\n\u001b[1;32m    549\u001b[0m             \u001b[0;31m# we recognize the attribute but do not force it to be\u001b[0m\u001b[0;34m\u001b[0m\u001b[0;34m\u001b[0m\u001b[0;34m\u001b[0m\u001b[0m\n\u001b[1;32m    550\u001b[0m             \u001b[0;31m# generated\u001b[0m\u001b[0;34m\u001b[0m\u001b[0;34m\u001b[0m\u001b[0;34m\u001b[0m\u001b[0m\n\u001b[0;32m--> 551\u001b[0;31m             \u001b[0;32mif\u001b[0m \u001b[0mself\u001b[0m\u001b[0;34m.\u001b[0m\u001b[0mn_outputs_expected_\u001b[0m \u001b[0;34m!=\u001b[0m \u001b[0mlen\u001b[0m\u001b[0;34m(\u001b[0m\u001b[0mself\u001b[0m\u001b[0;34m.\u001b[0m\u001b[0mmodel_\u001b[0m\u001b[0;34m.\u001b[0m\u001b[0moutputs\u001b[0m\u001b[0;34m)\u001b[0m\u001b[0;34m:\u001b[0m\u001b[0;34m\u001b[0m\u001b[0;34m\u001b[0m\u001b[0m\n\u001b[0m\u001b[1;32m    552\u001b[0m                 raise ValueError(\n\u001b[1;32m    553\u001b[0m                     \u001b[0;34m\"Detected a Keras model input of size\"\u001b[0m\u001b[0;34m\u001b[0m\u001b[0;34m\u001b[0m\u001b[0m\n",
            "\u001b[0;31mTypeError\u001b[0m: object of type 'NoneType' has no len()"
          ]
        }
      ]
    },
    {
      "cell_type": "code",
      "source": [
        "print(\"Best: %f using %s\" % (grid_result.best_score_, grid_result.best_params_))\n"
      ],
      "metadata": {
        "id": "C56Bg9gBIs_Q"
      },
      "execution_count": null,
      "outputs": []
    },
    {
      "cell_type": "code",
      "source": [],
      "metadata": {
        "id": "apYtpMVSCYGg"
      },
      "execution_count": null,
      "outputs": []
    },
    {
      "cell_type": "code",
      "source": [],
      "metadata": {
        "id": "RFp2q-H3Cb0n"
      },
      "execution_count": null,
      "outputs": []
    }
  ]
}