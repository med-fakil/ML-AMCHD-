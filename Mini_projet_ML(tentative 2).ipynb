{
  "nbformat": 4,
  "nbformat_minor": 0,
  "metadata": {
    "colab": {
      "provenance": [],
      "authorship_tag": "ABX9TyOB0+D/zb1GoKtYXlJqKrt/",
      "include_colab_link": true
    },
    "kernelspec": {
      "name": "python3",
      "display_name": "Python 3"
    },
    "language_info": {
      "name": "python"
    },
    "accelerator": "GPU",
    "gpuClass": "standard"
  },
  "cells": [
    {
      "cell_type": "markdown",
      "metadata": {
        "id": "view-in-github",
        "colab_type": "text"
      },
      "source": [
        "<a href=\"https://colab.research.google.com/github/med-fakil/ML-AMCHD-/blob/main/Mini_projet_ML(tentative%202).ipynb\" target=\"_parent\"><img src=\"https://colab.research.google.com/assets/colab-badge.svg\" alt=\"Open In Colab\"/></a>"
      ]
    },
    {
      "cell_type": "code",
      "source": [
        "import pathlib\n",
        "import os\n",
        "\n",
        "import cv2\n",
        "import numpy as np\n",
        "import requests\n",
        "import matplotlib.pyplot as plt\n",
        "import matplotlib.image as mpimg\n",
        "import sys\n",
        "import datetime\n",
        "from tensorflow import keras\n",
        "from tensorflow.keras.models import Model\n",
        "import tensorflow as tf\n",
        "from tensorflow.keras import layers\n"
      ],
      "metadata": {
        "id": "hlUveTCOutF8"
      },
      "execution_count": 18,
      "outputs": []
    },
    {
      "cell_type": "code",
      "source": [
        "from google.colab import drive\n",
        "drive.mount('/content/drive')"
      ],
      "metadata": {
        "colab": {
          "base_uri": "https://localhost:8080/"
        },
        "id": "7T7IMBQ5CBLV",
        "outputId": "afc80ef9-9944-47d1-d47b-38ba7f5d389c"
      },
      "execution_count": 2,
      "outputs": [
        {
          "output_type": "stream",
          "name": "stdout",
          "text": [
            "Mounted at /content/drive\n"
          ]
        }
      ]
    },
    {
      "cell_type": "code",
      "source": [
        "data_dir = '/content/drive/MyDrive/archive.zip'\n",
        "import zipfile\n",
        "with zipfile.ZipFile(data_dir, 'r') as zip_ref:\n",
        "    zip_ref.extractall('/content/datasets')"
      ],
      "metadata": {
        "id": "cEC4rHP7CmHw"
      },
      "execution_count": 3,
      "outputs": []
    },
    {
      "cell_type": "code",
      "source": [
        "data_dir = pathlib.Path('/content/datasets/AMHCD_64/AMHCD_64')\n",
        "print(\"Le répertoire de données : {} \".format(data_dir))"
      ],
      "metadata": {
        "colab": {
          "base_uri": "https://localhost:8080/"
        },
        "id": "HRIlNz8GCCjD",
        "outputId": "58794cde-2750-4f34-fb3f-daa374818720"
      },
      "execution_count": 4,
      "outputs": [
        {
          "output_type": "stream",
          "name": "stdout",
          "text": [
            "Le répertoire de données : /content/datasets/AMHCD_64/AMHCD_64 \n"
          ]
        }
      ]
    },
    {
      "cell_type": "code",
      "source": [
        "image_count = len(list(data_dir.glob('*/*')))\n",
        "print(\"Nombre des images de la base de données : {} \".format(image_count))"
      ],
      "metadata": {
        "colab": {
          "base_uri": "https://localhost:8080/"
        },
        "id": "p1oRY9YCDhPD",
        "outputId": "23050b16-660b-4c9a-81ac-ebd7b0b96d2f"
      },
      "execution_count": 5,
      "outputs": [
        {
          "output_type": "stream",
          "name": "stdout",
          "text": [
            "Nombre des images de la base de données : 25740 \n"
          ]
        }
      ]
    },
    {
      "cell_type": "code",
      "source": [
        "#Exemple d'une image\n",
        "image = plt.imread(\"/content/datasets/AMHCD_64/AMHCD_64/ya/ya_1.jpeg\")\n",
        "plt.imshow(image)"
      ],
      "metadata": {
        "colab": {
          "base_uri": "https://localhost:8080/",
          "height": 285
        },
        "id": "VDHge0vUoHsP",
        "outputId": "11a121e0-5eae-4cf8-880c-1970f5b1490a"
      },
      "execution_count": 11,
      "outputs": [
        {
          "output_type": "execute_result",
          "data": {
            "text/plain": [
              "<matplotlib.image.AxesImage at 0x7f96c1f342e0>"
            ]
          },
          "metadata": {},
          "execution_count": 11
        },
        {
          "output_type": "display_data",
          "data": {
            "text/plain": [
              "<Figure size 432x288 with 1 Axes>"
            ],
            "image/png": "[encoded data removed]"
          },
          "metadata": {
            "needs_background": "light"
          }
        }
      ]
    },
    {
      "cell_type": "code",
      "source": [
        "#Dimension des image\n",
        "image.shape"
      ],
      "metadata": {
        "colab": {
          "base_uri": "https://localhost:8080/"
        },
        "id": "dYsmENAiopoy",
        "outputId": "19b53c1e-bba2-4246-dab0-b8dba8fbbd8c"
      },
      "execution_count": 12,
      "outputs": [
        {
          "output_type": "execute_result",
          "data": {
            "text/plain": [
              "(64, 64, 3)"
            ]
          },
          "metadata": {},
          "execution_count": 12
        }
      ]
    },
    {
      "cell_type": "code",
      "source": [
        "#Taille des images\n",
        "img_height = 32\n",
        "img_width = 32"
      ],
      "metadata": {
        "id": "CCTdtzDHHCUy"
      },
      "execution_count": 13,
      "outputs": []
    },
    {
      "cell_type": "code",
      "source": [
        "# train_data est un objet tensor, chaque élement est un tuple (image,label) \n",
        "train_data = tf.keras.preprocessing.image_dataset_from_directory(\n",
        "  data_dir,\n",
        "  validation_split=0.2,\n",
        "  subset=\"training\",\n",
        "  seed=42,\n",
        "  image_size=(img_height, img_width),\n",
        "  #batch_size=batch_size,\n",
        "  )\n"
      ],
      "metadata": {
        "colab": {
          "base_uri": "https://localhost:8080/"
        },
        "id": "jqmHU3WfDnu4",
        "outputId": "e8694c82-a692-4e63-90f0-d3877b7c9cd2"
      },
      "execution_count": 14,
      "outputs": [
        {
          "output_type": "stream",
          "name": "stdout",
          "text": [
            "Found 25740 files belonging to 33 classes.\n",
            "Using 20592 files for training.\n"
          ]
        }
      ]
    },
    {
      "cell_type": "code",
      "source": [
        "# val_data est un objet tensor, chaque élement est un tuple (image,label) \n",
        "val_data = tf.keras.preprocessing.image_dataset_from_directory(\n",
        "  data_dir,\n",
        "  validation_split=0.2,\n",
        "  subset=\"validation\",\n",
        "  seed=42,\n",
        "  image_size=(img_height, img_width),\n",
        "  #batch_size=batch_size,\n",
        "  )"
      ],
      "metadata": {
        "colab": {
          "base_uri": "https://localhost:8080/"
        },
        "id": "ibL3wnq-EiNL",
        "outputId": "581048f3-1655-4606-90be-6d58c2c52c01"
      },
      "execution_count": 15,
      "outputs": [
        {
          "output_type": "stream",
          "name": "stdout",
          "text": [
            "Found 25740 files belonging to 33 classes.\n",
            "Using 5148 files for validation.\n"
          ]
        }
      ]
    },
    {
      "cell_type": "code",
      "source": [
        "class_names = val_data.class_names\n",
        "print(\"Les classes :\")\n",
        "print(class_names)\n",
        "print(\"Nombre de classe : {} \".format(len(class_names)))"
      ],
      "metadata": {
        "colab": {
          "base_uri": "https://localhost:8080/"
        },
        "id": "Uayzcv4cFUXk",
        "outputId": "193bc361-9538-49b2-973a-476113a8c1ec"
      },
      "execution_count": 16,
      "outputs": [
        {
          "output_type": "stream",
          "name": "stdout",
          "text": [
            "Les classes :\n",
            "['ya', 'yab', 'yach', 'yad', 'yadd', 'yae', 'yaf', 'yag', 'yagh', 'yagw', 'yah', 'yahh', 'yaj', 'yak', 'yakw', 'yal', 'yam', 'yan', 'yaq', 'yar', 'yarr', 'yas', 'yass', 'yat', 'yatt', 'yaw', 'yax', 'yay', 'yaz', 'yazz', 'yey', 'yi', 'yu']\n",
            "Nombre de classe : 33 \n"
          ]
        }
      ]
    },
    {
      "cell_type": "code",
      "source": [
        "#Visualiser qlq données\n",
        "plt.figure(figsize=(10, 10))\n",
        "for images, labels in train_data.take(1):\n",
        "  for i in range(3):\n",
        "    ax = plt.subplot(1, 3, i + 1)\n",
        "    plt.imshow(images[i].numpy().astype(\"uint8\"))\n",
        "    plt.title(class_names[labels[i]])\n",
        "    plt.axis(\"off\")"
      ],
      "metadata": {
        "colab": {
          "base_uri": "https://localhost:8080/",
          "height": 211
        },
        "id": "k40BNZaSFiGf",
        "outputId": "979f67cb-8cb8-45eb-a20e-a7ea85d7eab3"
      },
      "execution_count": 17,
      "outputs": [
        {
          "output_type": "display_data",
          "data": {
            "text/plain": [
              "<Figure size 720x720 with 3 Axes>"
            ],
            "image/png": "[encoded data removed]"
          },
          "metadata": {
            "needs_background": "light"
          }
        }
      ]
    },
    {
      "cell_type": "code",
      "source": [
        "\"\"\"\n",
        "from tensorflow.keras import layers\n",
        "from tensorflow.keras.datasets import mnist\n",
        "from tensorflow.keras.models import Sequential\n",
        "from tensorflow.keras.layers import Conv2D\n",
        "from tensorflow.keras.layers import MaxPool2D\n",
        "from tensorflow.keras.layers import Flatten\n",
        "from tensorflow.keras.layers import Dropout\n",
        "from tensorflow.keras.layers import Dense\n",
        "\n",
        "num_classes = 33\n",
        "\n",
        "#defining model\n",
        "model=Sequential()\n",
        "#Premier couche\n",
        "model.add(Conv2D(32,(3,3),activation='relu',input_shape=(32,32,3)))\n",
        "\n",
        "#Deuxième couche\n",
        "model.add(Conv2D(32,(3,3),activation='relu'))\n",
        "model.add(MaxPool2D(2,2))\n",
        "model.add(Dropout(0.5))\n",
        "\n",
        "\n",
        "#Troisième couche\n",
        "model.add(Conv2D(64,(3,3),activation='relu'))\n",
        "model.add(MaxPool2D(2,2))\n",
        "model.add(Dropout(0.5))\n",
        "\n",
        "#4ème couche\n",
        "model.add(Dense(64,activation='relu'))\n",
        "\n",
        "#5ème couche\n",
        "model.add(Dense(33,activation='softmax'))\n",
        "\"\"\""
      ],
      "metadata": {
        "colab": {
          "base_uri": "https://localhost:8080/",
          "height": 122
        },
        "id": "yygZUSO2HmbJ",
        "outputId": "701b1ce4-e5cc-4e71-a7f3-132459877ebb"
      },
      "execution_count": 39,
      "outputs": [
        {
          "output_type": "execute_result",
          "data": {
            "text/plain": [
              "\"\\nfrom tensorflow.keras import layers\\nfrom tensorflow.keras.datasets import mnist\\nfrom tensorflow.keras.models import Sequential\\nfrom tensorflow.keras.layers import Conv2D\\nfrom tensorflow.keras.layers import MaxPool2D\\nfrom tensorflow.keras.layers import Flatten\\nfrom tensorflow.keras.layers import Dropout\\nfrom tensorflow.keras.layers import Dense\\n\\nnum_classes = 33\\n\\n#defining model\\nmodel=Sequential()\\n#Premier couche\\nmodel.add(Conv2D(32,(3,3),activation='relu',input_shape=(32,32,3)))\\n\\n#Deuxième couche\\nmodel.add(Conv2D(32,(3,3),activation='relu'))\\nmodel.add(MaxPool2D(2,2))\\nmodel.add(Dropout(0.5))\\n\\n\\n#Troisième couche\\nmodel.add(Conv2D(64,(3,3),activation='relu'))\\nmodel.add(MaxPool2D(2,2))\\nmodel.add(Dropout(0.5))\\n\\n#4ème couche\\nmodel.add(Dense(64,activation='relu'))\\n\\n#5ème couche\\nmodel.add(Dense(33,activation='softmax'))\\n\""
            ],
            "application/vnd.google.colaboratory.intrinsic+json": {
              "type": "string"
            }
          },
          "metadata": {},
          "execution_count": 39
        }
      ]
    },
    {
      "cell_type": "code",
      "source": [
        "num_classes = 33\n",
        "\n",
        "model = tf.keras.Sequential([\n",
        "    layers.experimental.preprocessing.Rescaling(1./255),\n",
        "    layers.Conv2D(32,(3,3), activation='relu',input_shape=(32, 32, 3)),\n",
        "\n",
        "    layers.Conv2D(32,(3,3), activation='relu'),\n",
        "    layers.MaxPooling2D((2,2)),\n",
        "    layers.Dropout(rate=0.5),\n",
        "\n",
        "    layers.Conv2D(64,(3,3), activation='relu'),\n",
        "    layers.MaxPooling2D((2,2)),\n",
        "    layers.Dropout(rate=0.5),\n",
        "    \n",
        "    layers.Flatten(),\n",
        "\n",
        "    layers.Dense(64,activation='relu'),\n",
        "    layers.Dense(num_classes, activation='softmax')\n",
        "])"
      ],
      "metadata": {
        "id": "jZDEeKPCRGP7"
      },
      "execution_count": 19,
      "outputs": []
    },
    {
      "cell_type": "code",
      "source": [
        "model.compile(optimizer=tf.keras.optimizers.experimental.RMSprop(learning_rate=0.001),\n",
        "              loss=tf.losses.SparseCategoricalCrossentropy(from_logits=True),\n",
        "              metrics=['accuracy'],)\n",
        "\n",
        "logdir=\"logs\"\n",
        "tensorboard_callback = keras.callbacks.TensorBoard(log_dir=logdir,\n",
        "                                                   histogram_freq=1, \n",
        "                                                   write_images=logdir,\n",
        "                                                   embeddings_data=train_data)\n",
        "\n",
        "\n",
        "historique = model.fit( \n",
        "             train_data,\n",
        "             validation_data=val_data,\n",
        "             epochs=30,\n",
        "             callbacks=[tensorboard_callback]\n",
        ")"
      ],
      "metadata": {
        "colab": {
          "base_uri": "https://localhost:8080/"
        },
        "id": "qLUv-dhKHqlr",
        "outputId": "aaeb392c-e190-421c-ec0e-f0d5285ae0d3"
      },
      "execution_count": 20,
      "outputs": [
        {
          "output_type": "stream",
          "name": "stderr",
          "text": [
            "WARNING:tensorflow:`embeddings_data` is not supported in TensorFlow 2.0. Instead, all `Embedding` variables will be visualized.\n"
          ]
        },
        {
          "output_type": "stream",
          "name": "stdout",
          "text": [
            "Epoch 1/30\n"
          ]
        },
        {
          "output_type": "stream",
          "name": "stderr",
          "text": [
            "/usr/local/lib/python3.8/dist-packages/tensorflow/python/util/dispatch.py:1082: UserWarning: \"`sparse_categorical_crossentropy` received `from_logits=True`, but the `output` argument was produced by a sigmoid or softmax activation and thus does not represent logits. Was this intended?\"\n",
            "  return dispatch_target(*args, **kwargs)\n"
          ]
        },
        {
          "output_type": "stream",
          "name": "stdout",
          "text": [
            "644/644 [==============================] - 21s 17ms/step - loss: 1.2071 - accuracy: 0.6774 - val_loss: 0.2897 - val_accuracy: 0.9270\n",
            "Epoch 2/30\n",
            "644/644 [==============================] - 13s 20ms/step - loss: 0.2760 - accuracy: 0.9219 - val_loss: 0.1541 - val_accuracy: 0.9615\n",
            "Epoch 3/30\n",
            "644/644 [==============================] - 13s 19ms/step - loss: 0.1695 - accuracy: 0.9520 - val_loss: 0.1060 - val_accuracy: 0.9705\n",
            "Epoch 4/30\n",
            "644/644 [==============================] - 11s 17ms/step - loss: 0.1317 - accuracy: 0.9623 - val_loss: 0.0845 - val_accuracy: 0.9792\n",
            "Epoch 5/30\n",
            "644/644 [==============================] - 12s 19ms/step - loss: 0.1035 - accuracy: 0.9695 - val_loss: 0.0602 - val_accuracy: 0.9854\n",
            "Epoch 6/30\n",
            "644/644 [==============================] - 13s 19ms/step - loss: 0.0921 - accuracy: 0.9741 - val_loss: 0.0482 - val_accuracy: 0.9864\n",
            "Epoch 7/30\n",
            "644/644 [==============================] - 13s 20ms/step - loss: 0.0827 - accuracy: 0.9761 - val_loss: 0.0510 - val_accuracy: 0.9872\n",
            "Epoch 8/30\n",
            "644/644 [==============================] - 13s 20ms/step - loss: 0.0714 - accuracy: 0.9788 - val_loss: 0.0631 - val_accuracy: 0.9796\n",
            "Epoch 9/30\n",
            "644/644 [==============================] - 13s 19ms/step - loss: 0.0655 - accuracy: 0.9803 - val_loss: 0.0455 - val_accuracy: 0.9880\n",
            "Epoch 10/30\n",
            "644/644 [==============================] - 13s 20ms/step - loss: 0.0630 - accuracy: 0.9814 - val_loss: 0.0764 - val_accuracy: 0.9738\n",
            "Epoch 11/30\n",
            "644/644 [==============================] - 13s 20ms/step - loss: 0.0601 - accuracy: 0.9832 - val_loss: 0.0419 - val_accuracy: 0.9872\n",
            "Epoch 12/30\n",
            "644/644 [==============================] - 13s 20ms/step - loss: 0.0563 - accuracy: 0.9839 - val_loss: 0.0366 - val_accuracy: 0.9899\n",
            "Epoch 13/30\n",
            "644/644 [==============================] - 13s 19ms/step - loss: 0.0519 - accuracy: 0.9849 - val_loss: 0.0385 - val_accuracy: 0.9895\n",
            "Epoch 14/30\n",
            "644/644 [==============================] - 13s 20ms/step - loss: 0.0506 - accuracy: 0.9850 - val_loss: 0.0421 - val_accuracy: 0.9895\n",
            "Epoch 15/30\n",
            "644/644 [==============================] - 13s 19ms/step - loss: 0.0488 - accuracy: 0.9855 - val_loss: 0.0413 - val_accuracy: 0.9887\n",
            "Epoch 16/30\n",
            "644/644 [==============================] - 13s 20ms/step - loss: 0.0427 - accuracy: 0.9883 - val_loss: 0.0385 - val_accuracy: 0.9897\n",
            "Epoch 17/30\n",
            "644/644 [==============================] - 13s 20ms/step - loss: 0.0460 - accuracy: 0.9866 - val_loss: 0.0342 - val_accuracy: 0.9909\n",
            "Epoch 18/30\n",
            "644/644 [==============================] - 13s 20ms/step - loss: 0.0431 - accuracy: 0.9877 - val_loss: 0.0391 - val_accuracy: 0.9899\n",
            "Epoch 19/30\n",
            "644/644 [==============================] - 13s 20ms/step - loss: 0.0450 - accuracy: 0.9874 - val_loss: 0.0344 - val_accuracy: 0.9916\n",
            "Epoch 20/30\n",
            "644/644 [==============================] - 13s 20ms/step - loss: 0.0409 - accuracy: 0.9878 - val_loss: 0.0378 - val_accuracy: 0.9911\n",
            "Epoch 21/30\n",
            "644/644 [==============================] - 13s 20ms/step - loss: 0.0431 - accuracy: 0.9873 - val_loss: 0.0356 - val_accuracy: 0.9920\n",
            "Epoch 22/30\n",
            "644/644 [==============================] - 14s 22ms/step - loss: 0.0415 - accuracy: 0.9885 - val_loss: 0.0324 - val_accuracy: 0.9926\n",
            "Epoch 23/30\n",
            "644/644 [==============================] - 13s 20ms/step - loss: 0.0420 - accuracy: 0.9880 - val_loss: 0.0366 - val_accuracy: 0.9916\n",
            "Epoch 24/30\n",
            "644/644 [==============================] - 13s 20ms/step - loss: 0.0406 - accuracy: 0.9889 - val_loss: 0.0351 - val_accuracy: 0.9913\n",
            "Epoch 25/30\n",
            "644/644 [==============================] - 13s 20ms/step - loss: 0.0409 - accuracy: 0.9886 - val_loss: 0.0419 - val_accuracy: 0.9905\n",
            "Epoch 26/30\n",
            "644/644 [==============================] - 17s 27ms/step - loss: 0.0388 - accuracy: 0.9880 - val_loss: 0.0368 - val_accuracy: 0.9916\n",
            "Epoch 27/30\n",
            "644/644 [==============================] - 21s 32ms/step - loss: 0.0396 - accuracy: 0.9887 - val_loss: 0.0377 - val_accuracy: 0.9909\n",
            "Epoch 28/30\n",
            "644/644 [==============================] - 14s 22ms/step - loss: 0.0350 - accuracy: 0.9897 - val_loss: 0.0341 - val_accuracy: 0.9918\n",
            "Epoch 29/30\n",
            "644/644 [==============================] - 14s 22ms/step - loss: 0.0359 - accuracy: 0.9887 - val_loss: 0.0478 - val_accuracy: 0.9882\n",
            "Epoch 30/30\n",
            "644/644 [==============================] - 14s 21ms/step - loss: 0.0396 - accuracy: 0.9892 - val_loss: 0.0444 - val_accuracy: 0.9905\n"
          ]
        }
      ]
    },
    {
      "cell_type": "code",
      "source": [
        "import pandas as pd\n",
        "metrics = pd.DataFrame(historique.history)"
      ],
      "metadata": {
        "id": "nga_83kdQvcp"
      },
      "execution_count": 21,
      "outputs": []
    },
    {
      "cell_type": "code",
      "source": [
        "plt.figure(figsize=(5,5))\n",
        "plt.ylim([0,1])\n",
        "plt.xlim([0,30])\n",
        "plt.plot(metrics[[\"loss\",\"val_loss\"]])\n",
        "plt.grid(True)\n",
        "plt.show()"
      ],
      "metadata": {
        "colab": {
          "base_uri": "https://localhost:8080/",
          "height": 324
        },
        "id": "KvNRqL-qe4YT",
        "outputId": "1c6250d4-a8f2-4f2e-f899-a64c280ffc52"
      },
      "execution_count": 36,
      "outputs": [
        {
          "output_type": "display_data",
          "data": {
            "text/plain": [
              "<Figure size 360x360 with 1 Axes>"
            ],
            "image/png": "[encoded data removed]"
          },
          "metadata": {
            "needs_background": "light"
          }
        }
      ]
    },
    {
      "cell_type": "code",
      "source": [
        "plt.figure(figsize=(5,5))\n",
        "plt.ylim([0,1])\n",
        "plt.xlim([0,30])\n",
        "plt.plot(metrics[[\"accuracy\",\"val_accuracy\"]])\n",
        "plt.grid(True)\n",
        "plt.show()"
      ],
      "metadata": {
        "colab": {
          "base_uri": "https://localhost:8080/",
          "height": 324
        },
        "id": "rIkVYySmhZJ2",
        "outputId": "97e2a983-dae4-4434-d722-c56d2d66e71f"
      },
      "execution_count": 35,
      "outputs": [
        {
          "output_type": "display_data",
          "data": {
            "text/plain": [
              "<Figure size 360x360 with 1 Axes>"
            ],
            "image/png": "[encoded data removed]"
          },
          "metadata": {
            "needs_background": "light"
          }
        }
      ]
    },
    {
      "cell_type": "code",
      "source": [],
      "metadata": {
        "id": "v9eJS5w-hwoQ"
      },
      "execution_count": null,
      "outputs": []
    }
  ]
}