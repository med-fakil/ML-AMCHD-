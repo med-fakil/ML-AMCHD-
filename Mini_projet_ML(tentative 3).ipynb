{
  "nbformat": 4,
  "nbformat_minor": 0,
  "metadata": {
    "colab": {
      "provenance": [],
      "authorship_tag": "ABX9TyPK311DR1Gm1wAKXYcEKAkI",
      "include_colab_link": true
    },
    "kernelspec": {
      "name": "python3",
      "display_name": "Python 3"
    },
    "language_info": {
      "name": "python"
    },
    "accelerator": "GPU",
    "gpuClass": "standard"
  },
  "cells": [
    {
      "cell_type": "markdown",
      "metadata": {
        "id": "view-in-github",
        "colab_type": "text"
      },
      "source": [
        "<a href=\"https://colab.research.google.com/github/med-fakil/ML-AMCHD-/blob/main/Mini_projet_ML(tentative%203).ipynb\" target=\"_parent\"><img src=\"https://colab.research.google.com/assets/colab-badge.svg\" alt=\"Open In Colab\"/></a>"
      ]
    },
    {
      "cell_type": "code",
      "source": [
        "import pathlib\n",
        "import os\n",
        "\n",
        "import cv2\n",
        "import numpy as np\n",
        "import requests\n",
        "import matplotlib.pyplot as plt\n",
        "import matplotlib.image as mpimg\n",
        "import sys\n",
        "import datetime\n",
        "from tensorflow import keras\n",
        "from tensorflow.keras.models import Model\n",
        "import tensorflow as tf\n",
        "from tensorflow.keras import layers\n"
      ],
      "metadata": {
        "id": "hlUveTCOutF8"
      },
      "execution_count": 50,
      "outputs": []
    },
    {
      "cell_type": "code",
      "source": [
        "from google.colab import drive\n",
        "drive.mount('/content/drive')"
      ],
      "metadata": {
        "colab": {
          "base_uri": "https://localhost:8080/"
        },
        "id": "7T7IMBQ5CBLV",
        "outputId": "91459401-ee28-420f-fb42-061e552d0c2b"
      },
      "execution_count": 51,
      "outputs": [
        {
          "output_type": "stream",
          "name": "stdout",
          "text": [
            "Drive already mounted at /content/drive; to attempt to forcibly remount, call drive.mount(\"/content/drive\", force_remount=True).\n"
          ]
        }
      ]
    },
    {
      "cell_type": "code",
      "source": [
        "data_dir = '/content/drive/MyDrive/archive.zip'\n",
        "import zipfile\n",
        "with zipfile.ZipFile(data_dir, 'r') as zip_ref:\n",
        "    zip_ref.extractall('/content/datasets')"
      ],
      "metadata": {
        "id": "cEC4rHP7CmHw"
      },
      "execution_count": 52,
      "outputs": []
    },
    {
      "cell_type": "code",
      "source": [
        "data_dir = pathlib.Path('/content/datasets/AMHCD_64/AMHCD_64')\n",
        "print(\"Le répertoire de données : {} \".format(data_dir))"
      ],
      "metadata": {
        "colab": {
          "base_uri": "https://localhost:8080/"
        },
        "id": "HRIlNz8GCCjD",
        "outputId": "380a3a36-422e-4d8e-fc78-346bbf5f13e9"
      },
      "execution_count": 53,
      "outputs": [
        {
          "output_type": "stream",
          "name": "stdout",
          "text": [
            "Le répertoire de données : /content/datasets/AMHCD_64/AMHCD_64 \n"
          ]
        }
      ]
    },
    {
      "cell_type": "code",
      "source": [
        "image_count = len(list(data_dir.glob('*/*')))\n",
        "print(\"Nombre des images de la base de données : {} \".format(image_count))"
      ],
      "metadata": {
        "colab": {
          "base_uri": "https://localhost:8080/"
        },
        "id": "p1oRY9YCDhPD",
        "outputId": "e4fe003d-2488-4732-d70c-19d4ee1080da"
      },
      "execution_count": 54,
      "outputs": [
        {
          "output_type": "stream",
          "name": "stdout",
          "text": [
            "Nombre des images de la base de données : 25740 \n"
          ]
        }
      ]
    },
    {
      "cell_type": "code",
      "source": [
        "#Exemple d'une image\n",
        "image = plt.imread(\"/content/datasets/AMHCD_64/AMHCD_64/ya/ya_1.jpeg\")\n",
        "plt.imshow(image)"
      ],
      "metadata": {
        "colab": {
          "base_uri": "https://localhost:8080/",
          "height": 285
        },
        "id": "VDHge0vUoHsP",
        "outputId": "71b1b1ce-11ac-470d-b346-1f2097584332"
      },
      "execution_count": 55,
      "outputs": [
        {
          "output_type": "execute_result",
          "data": {
            "text/plain": [
              "<matplotlib.image.AxesImage at 0x7f2324089580>"
            ]
          },
          "metadata": {},
          "execution_count": 55
        },
        {
          "output_type": "display_data",
          "data": {
            "text/plain": [
              "<Figure size 432x288 with 1 Axes>"
            ],
            "image/png": "[encoded data removed]"
          },
          "metadata": {
            "needs_background": "light"
          }
        }
      ]
    },
    {
      "cell_type": "code",
      "source": [
        "#Dimension des image\n",
        "image.shape"
      ],
      "metadata": {
        "colab": {
          "base_uri": "https://localhost:8080/"
        },
        "id": "dYsmENAiopoy",
        "outputId": "2d04c166-7c96-415d-c202-7ae623ee3025"
      },
      "execution_count": 56,
      "outputs": [
        {
          "output_type": "execute_result",
          "data": {
            "text/plain": [
              "(64, 64, 3)"
            ]
          },
          "metadata": {},
          "execution_count": 56
        }
      ]
    },
    {
      "cell_type": "code",
      "source": [
        "#Taille des images\n",
        "img_height = 32\n",
        "img_width = 32"
      ],
      "metadata": {
        "id": "CCTdtzDHHCUy"
      },
      "execution_count": 57,
      "outputs": []
    },
    {
      "cell_type": "code",
      "source": [
        "# train_data est un objet tensor, chaque élement est un tuple (image,label) \n",
        "train_data = tf.keras.preprocessing.image_dataset_from_directory(\n",
        "  data_dir,\n",
        "  validation_split=0.2,\n",
        "  subset=\"training\",\n",
        "  seed=42,\n",
        "  image_size=(img_height, img_width),\n",
        "  #batch_size=batch_size,\n",
        "  )\n"
      ],
      "metadata": {
        "colab": {
          "base_uri": "https://localhost:8080/"
        },
        "id": "jqmHU3WfDnu4",
        "outputId": "56da4fc3-4372-4ae9-8dcf-082f5de62d7b"
      },
      "execution_count": 58,
      "outputs": [
        {
          "output_type": "stream",
          "name": "stdout",
          "text": [
            "Found 25740 files belonging to 33 classes.\n",
            "Using 20592 files for training.\n"
          ]
        }
      ]
    },
    {
      "cell_type": "code",
      "source": [
        "# val_data est un objet tensor, chaque élement est un tuple (image,label) \n",
        "val_data = tf.keras.preprocessing.image_dataset_from_directory(\n",
        "  data_dir,\n",
        "  validation_split=0.2,\n",
        "  subset=\"validation\",\n",
        "  seed=42,\n",
        "  image_size=(img_height, img_width),\n",
        "  #batch_size=batch_size,\n",
        "  )"
      ],
      "metadata": {
        "colab": {
          "base_uri": "https://localhost:8080/"
        },
        "id": "ibL3wnq-EiNL",
        "outputId": "6794b10d-7adc-423b-c977-fbd19490ebd6"
      },
      "execution_count": 59,
      "outputs": [
        {
          "output_type": "stream",
          "name": "stdout",
          "text": [
            "Found 25740 files belonging to 33 classes.\n",
            "Using 5148 files for validation.\n"
          ]
        }
      ]
    },
    {
      "cell_type": "code",
      "source": [
        "class_names = val_data.class_names\n",
        "print(\"Les classes :\")\n",
        "print(class_names)\n",
        "print(\"Nombre de classe : {} \".format(len(class_names)))"
      ],
      "metadata": {
        "colab": {
          "base_uri": "https://localhost:8080/"
        },
        "id": "Uayzcv4cFUXk",
        "outputId": "e9041f72-aded-44e6-eef0-71cbebee09a2"
      },
      "execution_count": 60,
      "outputs": [
        {
          "output_type": "stream",
          "name": "stdout",
          "text": [
            "Les classes :\n",
            "['ya', 'yab', 'yach', 'yad', 'yadd', 'yae', 'yaf', 'yag', 'yagh', 'yagw', 'yah', 'yahh', 'yaj', 'yak', 'yakw', 'yal', 'yam', 'yan', 'yaq', 'yar', 'yarr', 'yas', 'yass', 'yat', 'yatt', 'yaw', 'yax', 'yay', 'yaz', 'yazz', 'yey', 'yi', 'yu']\n",
            "Nombre de classe : 33 \n"
          ]
        }
      ]
    },
    {
      "cell_type": "code",
      "source": [
        "#Visualiser qlq données\n",
        "plt.figure(figsize=(10, 10))\n",
        "for images, labels in train_data.take(1):\n",
        "  for i in range(3):\n",
        "    ax = plt.subplot(1, 3, i + 1)\n",
        "    plt.imshow(images[i].numpy().astype(\"uint8\"))\n",
        "    plt.title(class_names[labels[i]])\n",
        "    plt.axis(\"off\")"
      ],
      "metadata": {
        "colab": {
          "base_uri": "https://localhost:8080/",
          "height": 211
        },
        "id": "k40BNZaSFiGf",
        "outputId": "94ab3a7f-e030-40da-ed2b-faa6d48e2ea1"
      },
      "execution_count": 61,
      "outputs": [
        {
          "output_type": "display_data",
          "data": {
            "text/plain": [
              "<Figure size 720x720 with 3 Axes>"
            ],
            "image/png": "[encoded data removed]"
          },
          "metadata": {
            "needs_background": "light"
          }
        }
      ]
    },
    {
      "cell_type": "code",
      "source": [
        "\"\"\"\n",
        "from tensorflow.keras import layers\n",
        "from tensorflow.keras.datasets import mnist\n",
        "from tensorflow.keras.models import Sequential\n",
        "from tensorflow.keras.layers import Conv2D\n",
        "from tensorflow.keras.layers import MaxPool2D\n",
        "from tensorflow.keras.layers import Flatten\n",
        "from tensorflow.keras.layers import Dropout\n",
        "from tensorflow.keras.layers import Dense\n",
        "\n",
        "num_classes = 33\n",
        "\n",
        "#defining model\n",
        "model=Sequential()\n",
        "#Premier couche\n",
        "model.add(Conv2D(32,(3,3),activation='relu',input_shape=(32,32,3)))\n",
        "\n",
        "#Deuxième couche\n",
        "model.add(Conv2D(32,(3,3),activation='relu'))\n",
        "model.add(MaxPool2D(2,2))\n",
        "model.add(Dropout(0.5))\n",
        "\n",
        "\n",
        "#Troisième couche\n",
        "model.add(Conv2D(64,(3,3),activation='relu'))\n",
        "model.add(MaxPool2D(2,2))\n",
        "model.add(Dropout(0.5))\n",
        "\n",
        "#4ème couche\n",
        "model.add(Dense(64,activation='relu'))\n",
        "\n",
        "#5ème couche\n",
        "model.add(Dense(33,activation='softmax'))\n",
        "\"\"\""
      ],
      "metadata": {
        "colab": {
          "base_uri": "https://localhost:8080/",
          "height": 122
        },
        "id": "yygZUSO2HmbJ",
        "outputId": "089285f7-f39f-448d-e8a1-6638cd71a891"
      },
      "execution_count": 62,
      "outputs": [
        {
          "output_type": "execute_result",
          "data": {
            "text/plain": [
              "\"\\nfrom tensorflow.keras import layers\\nfrom tensorflow.keras.datasets import mnist\\nfrom tensorflow.keras.models import Sequential\\nfrom tensorflow.keras.layers import Conv2D\\nfrom tensorflow.keras.layers import MaxPool2D\\nfrom tensorflow.keras.layers import Flatten\\nfrom tensorflow.keras.layers import Dropout\\nfrom tensorflow.keras.layers import Dense\\n\\nnum_classes = 33\\n\\n#defining model\\nmodel=Sequential()\\n#Premier couche\\nmodel.add(Conv2D(32,(3,3),activation='relu',input_shape=(32,32,3)))\\n\\n#Deuxième couche\\nmodel.add(Conv2D(32,(3,3),activation='relu'))\\nmodel.add(MaxPool2D(2,2))\\nmodel.add(Dropout(0.5))\\n\\n\\n#Troisième couche\\nmodel.add(Conv2D(64,(3,3),activation='relu'))\\nmodel.add(MaxPool2D(2,2))\\nmodel.add(Dropout(0.5))\\n\\n#4ème couche\\nmodel.add(Dense(64,activation='relu'))\\n\\n#5ème couche\\nmodel.add(Dense(33,activation='softmax'))\\n\""
            ],
            "application/vnd.google.colaboratory.intrinsic+json": {
              "type": "string"
            }
          },
          "metadata": {},
          "execution_count": 62
        }
      ]
    },
    {
      "cell_type": "code",
      "source": [
        "num_classes = 33\n",
        "\n",
        "model = tf.keras.Sequential([\n",
        "    layers.experimental.preprocessing.Rescaling(1./255),\n",
        "    layers.Conv2D(32,(3,3), activation='relu',input_shape=(32, 32, 3)),\n",
        "\n",
        "    layers.Conv2D(32,(3,3), activation='relu'),\n",
        "    layers.MaxPooling2D((2,2)),\n",
        "    layers.Dropout(rate=0.5),\n",
        "\n",
        "    layers.Conv2D(64,(3,3), activation='relu'),\n",
        "    layers.MaxPooling2D((2,2)),\n",
        "    layers.Dropout(rate=0.5),\n",
        "    \n",
        "    layers.Flatten(),\n",
        "\n",
        "    layers.Dense(64,activation='relu'),\n",
        "    layers.Dense(num_classes, activation='softmax')\n",
        "])"
      ],
      "metadata": {
        "id": "jZDEeKPCRGP7"
      },
      "execution_count": 63,
      "outputs": []
    },
    {
      "cell_type": "code",
      "source": [
        "model.compile(optimizer=tf.keras.optimizers.experimental.RMSprop(learning_rate=0.001),\n",
        "              loss=tf.losses.SparseCategoricalCrossentropy(from_logits=True),\n",
        "              metrics=['accuracy'])\n",
        "\n",
        "logdir=\"logs\"\n",
        "tensorboard_callback = keras.callbacks.TensorBoard(log_dir=logdir,\n",
        "                                                   histogram_freq=1, \n",
        "                                                   write_images=logdir,\n",
        "                                                   embeddings_data=train_data)\n",
        "\n",
        "\n",
        "historique = model.fit( \n",
        "             train_data,\n",
        "             validation_data=val_data,\n",
        "             epochs=40,\n",
        "             callbacks=[tensorboard_callback]\n",
        ")"
      ],
      "metadata": {
        "colab": {
          "base_uri": "https://localhost:8080/"
        },
        "id": "qLUv-dhKHqlr",
        "outputId": "a279a081-1a39-4fb8-8014-6902a232be93"
      },
      "execution_count": 64,
      "outputs": [
        {
          "output_type": "stream",
          "name": "stderr",
          "text": [
            "WARNING:tensorflow:`embeddings_data` is not supported in TensorFlow 2.0. Instead, all `Embedding` variables will be visualized.\n"
          ]
        },
        {
          "output_type": "stream",
          "name": "stdout",
          "text": [
            "Epoch 1/40\n"
          ]
        },
        {
          "output_type": "stream",
          "name": "stderr",
          "text": [
            "/usr/local/lib/python3.8/dist-packages/tensorflow/python/util/dispatch.py:1082: UserWarning: \"`sparse_categorical_crossentropy` received `from_logits=True`, but the `output` argument was produced by a sigmoid or softmax activation and thus does not represent logits. Was this intended?\"\n",
            "  return dispatch_target(*args, **kwargs)\n"
          ]
        },
        {
          "output_type": "stream",
          "name": "stdout",
          "text": [
            "644/644 [==============================] - 10s 14ms/step - loss: 1.3793 - accuracy: 0.6223 - val_loss: 0.2633 - val_accuracy: 0.9272\n",
            "Epoch 2/40\n",
            "644/644 [==============================] - 9s 14ms/step - loss: 0.2780 - accuracy: 0.9216 - val_loss: 0.1075 - val_accuracy: 0.9689\n",
            "Epoch 3/40\n",
            "644/644 [==============================] - 9s 14ms/step - loss: 0.1664 - accuracy: 0.9521 - val_loss: 0.1437 - val_accuracy: 0.9627\n",
            "Epoch 4/40\n",
            "644/644 [==============================] - 9s 13ms/step - loss: 0.1277 - accuracy: 0.9646 - val_loss: 0.0616 - val_accuracy: 0.9806\n",
            "Epoch 5/40\n",
            "644/644 [==============================] - 9s 14ms/step - loss: 0.1041 - accuracy: 0.9678 - val_loss: 0.0651 - val_accuracy: 0.9790\n",
            "Epoch 6/40\n",
            "644/644 [==============================] - 9s 13ms/step - loss: 0.0919 - accuracy: 0.9725 - val_loss: 0.0477 - val_accuracy: 0.9856\n",
            "Epoch 7/40\n",
            "644/644 [==============================] - 9s 14ms/step - loss: 0.0816 - accuracy: 0.9769 - val_loss: 0.0456 - val_accuracy: 0.9876\n",
            "Epoch 8/40\n",
            "644/644 [==============================] - 10s 15ms/step - loss: 0.0728 - accuracy: 0.9788 - val_loss: 0.0486 - val_accuracy: 0.9868\n",
            "Epoch 9/40\n",
            "644/644 [==============================] - 9s 14ms/step - loss: 0.0615 - accuracy: 0.9817 - val_loss: 0.0402 - val_accuracy: 0.9887\n",
            "Epoch 10/40\n",
            "644/644 [==============================] - 9s 13ms/step - loss: 0.0620 - accuracy: 0.9818 - val_loss: 0.0604 - val_accuracy: 0.9835\n",
            "Epoch 11/40\n",
            "644/644 [==============================] - 9s 13ms/step - loss: 0.0586 - accuracy: 0.9825 - val_loss: 0.0360 - val_accuracy: 0.9905\n",
            "Epoch 12/40\n",
            "644/644 [==============================] - 9s 14ms/step - loss: 0.0544 - accuracy: 0.9849 - val_loss: 0.0388 - val_accuracy: 0.9895\n",
            "Epoch 13/40\n",
            "644/644 [==============================] - 9s 14ms/step - loss: 0.0522 - accuracy: 0.9856 - val_loss: 0.0451 - val_accuracy: 0.9887\n",
            "Epoch 14/40\n",
            "644/644 [==============================] - 9s 14ms/step - loss: 0.0484 - accuracy: 0.9860 - val_loss: 0.0880 - val_accuracy: 0.9788\n",
            "Epoch 15/40\n",
            "644/644 [==============================] - 9s 13ms/step - loss: 0.0456 - accuracy: 0.9863 - val_loss: 0.0437 - val_accuracy: 0.9887\n",
            "Epoch 16/40\n",
            "644/644 [==============================] - 10s 15ms/step - loss: 0.0429 - accuracy: 0.9869 - val_loss: 0.0365 - val_accuracy: 0.9901\n",
            "Epoch 17/40\n",
            "644/644 [==============================] - 9s 14ms/step - loss: 0.0467 - accuracy: 0.9863 - val_loss: 0.0337 - val_accuracy: 0.9911\n",
            "Epoch 18/40\n",
            "644/644 [==============================] - 9s 14ms/step - loss: 0.0436 - accuracy: 0.9873 - val_loss: 0.0369 - val_accuracy: 0.9907\n",
            "Epoch 19/40\n",
            "644/644 [==============================] - 9s 14ms/step - loss: 0.0409 - accuracy: 0.9882 - val_loss: 0.0396 - val_accuracy: 0.9918\n",
            "Epoch 20/40\n",
            "644/644 [==============================] - 9s 14ms/step - loss: 0.0427 - accuracy: 0.9881 - val_loss: 0.0490 - val_accuracy: 0.9868\n",
            "Epoch 21/40\n",
            "644/644 [==============================] - 10s 16ms/step - loss: 0.0430 - accuracy: 0.9890 - val_loss: 0.0418 - val_accuracy: 0.9915\n",
            "Epoch 22/40\n",
            "644/644 [==============================] - 9s 13ms/step - loss: 0.0412 - accuracy: 0.9889 - val_loss: 0.0470 - val_accuracy: 0.9878\n",
            "Epoch 23/40\n",
            "644/644 [==============================] - 9s 13ms/step - loss: 0.0400 - accuracy: 0.9885 - val_loss: 0.0427 - val_accuracy: 0.9905\n",
            "Epoch 24/40\n",
            "644/644 [==============================] - 10s 15ms/step - loss: 0.0419 - accuracy: 0.9884 - val_loss: 0.0498 - val_accuracy: 0.9878\n",
            "Epoch 25/40\n",
            "644/644 [==============================] - 9s 14ms/step - loss: 0.0389 - accuracy: 0.9894 - val_loss: 0.0566 - val_accuracy: 0.9889\n",
            "Epoch 26/40\n",
            "644/644 [==============================] - 9s 14ms/step - loss: 0.0354 - accuracy: 0.9901 - val_loss: 0.0392 - val_accuracy: 0.9903\n",
            "Epoch 27/40\n",
            "644/644 [==============================] - 10s 15ms/step - loss: 0.0393 - accuracy: 0.9891 - val_loss: 0.0375 - val_accuracy: 0.9909\n",
            "Epoch 28/40\n",
            "644/644 [==============================] - 9s 14ms/step - loss: 0.0379 - accuracy: 0.9892 - val_loss: 0.0440 - val_accuracy: 0.9903\n",
            "Epoch 29/40\n",
            "644/644 [==============================] - 9s 13ms/step - loss: 0.0370 - accuracy: 0.9892 - val_loss: 0.0390 - val_accuracy: 0.9922\n",
            "Epoch 30/40\n",
            "644/644 [==============================] - 9s 13ms/step - loss: 0.0379 - accuracy: 0.9899 - val_loss: 0.0371 - val_accuracy: 0.9915\n",
            "Epoch 31/40\n",
            "644/644 [==============================] - 9s 13ms/step - loss: 0.0342 - accuracy: 0.9903 - val_loss: 0.0429 - val_accuracy: 0.9903\n",
            "Epoch 32/40\n",
            "644/644 [==============================] - 9s 14ms/step - loss: 0.0339 - accuracy: 0.9900 - val_loss: 0.0411 - val_accuracy: 0.9909\n",
            "Epoch 33/40\n",
            "644/644 [==============================] - 9s 13ms/step - loss: 0.0367 - accuracy: 0.9902 - val_loss: 0.0447 - val_accuracy: 0.9905\n",
            "Epoch 34/40\n",
            "644/644 [==============================] - 10s 15ms/step - loss: 0.0347 - accuracy: 0.9906 - val_loss: 0.0385 - val_accuracy: 0.9918\n",
            "Epoch 35/40\n",
            "644/644 [==============================] - 9s 14ms/step - loss: 0.0345 - accuracy: 0.9905 - val_loss: 0.0354 - val_accuracy: 0.9932\n",
            "Epoch 36/40\n",
            "644/644 [==============================] - 9s 13ms/step - loss: 0.0359 - accuracy: 0.9909 - val_loss: 0.0429 - val_accuracy: 0.9913\n",
            "Epoch 37/40\n",
            "644/644 [==============================] - 9s 14ms/step - loss: 0.0340 - accuracy: 0.9904 - val_loss: 0.0469 - val_accuracy: 0.9901\n",
            "Epoch 38/40\n",
            "644/644 [==============================] - 10s 15ms/step - loss: 0.0354 - accuracy: 0.9903 - val_loss: 0.0366 - val_accuracy: 0.9930\n",
            "Epoch 39/40\n",
            "644/644 [==============================] - 9s 13ms/step - loss: 0.0327 - accuracy: 0.9908 - val_loss: 0.0453 - val_accuracy: 0.9913\n",
            "Epoch 40/40\n",
            "644/644 [==============================] - 9s 13ms/step - loss: 0.0349 - accuracy: 0.9903 - val_loss: 0.0435 - val_accuracy: 0.9916\n"
          ]
        }
      ]
    },
    {
      "cell_type": "code",
      "source": [
        "import pandas as pd\n",
        "metrics = pd.DataFrame(historique.history)"
      ],
      "metadata": {
        "id": "nga_83kdQvcp"
      },
      "execution_count": null,
      "outputs": []
    },
    {
      "cell_type": "code",
      "source": [
        "plt.figure(figsize=(10,10))\n",
        "plt.ylim([0,1])\n",
        "plt.xlim([0,30])\n",
        "plt.plot(metrics[[\"loss\",\"val_loss\"]])\n",
        "plt.grid(True)\n",
        "plt.show()"
      ],
      "metadata": {
        "id": "KvNRqL-qe4YT"
      },
      "execution_count": null,
      "outputs": []
    },
    {
      "cell_type": "code",
      "source": [
        "plt.figure(figsize=(10,10))\n",
        "plt.ylim([0,1])\n",
        "plt.xlim([0,30])\n",
        "plt.plot(metrics[[\"accuracy\",\"val_accuracy\"]])\n",
        "plt.grid(True)\n",
        "plt.show()"
      ],
      "metadata": {
        "colab": {
          "base_uri": "https://localhost:8080/",
          "height": 596
        },
        "id": "rIkVYySmhZJ2",
        "outputId": "26a1109b-583e-4a66-e099-5c62df66607b"
      },
      "execution_count": 67,
      "outputs": [
        {
          "output_type": "display_data",
          "data": {
            "text/plain": [
              "<Figure size 720x720 with 1 Axes>"
            ],
            "image/png": "[encoded data removed]"
          },
          "metadata": {
            "needs_background": "light"
          }
        }
      ]
    },
    {
      "cell_type": "code",
      "source": [
        "#--------------------------------------------------------------------------------------------------------------"
      ],
      "metadata": {
        "id": "v9eJS5w-hwoQ"
      },
      "execution_count": 68,
      "outputs": []
    },
    {
      "cell_type": "code",
      "source": [
        "pip install scikeras"
      ],
      "metadata": {
        "colab": {
          "base_uri": "https://localhost:8080/"
        },
        "id": "6pAxLYHt8mCa",
        "outputId": "32ba22f5-22fc-43fe-cdd6-584225c37a97"
      },
      "execution_count": 69,
      "outputs": [
        {
          "output_type": "stream",
          "name": "stdout",
          "text": [
            "Looking in indexes: https://pypi.org/simple, https://us-python.pkg.dev/colab-wheels/public/simple/\n",
            "Requirement already satisfied: scikeras in /usr/local/lib/python3.8/dist-packages (0.10.0)\n",
            "Requirement already satisfied: packaging>=0.21 in /usr/local/lib/python3.8/dist-packages (from scikeras) (21.3)\n",
            "Requirement already satisfied: scikit-learn>=1.0.0 in /usr/local/lib/python3.8/dist-packages (from scikeras) (1.0.2)\n",
            "Requirement already satisfied: pyparsing!=3.0.5,>=2.0.2 in /usr/local/lib/python3.8/dist-packages (from packaging>=0.21->scikeras) (3.0.9)\n",
            "Requirement already satisfied: numpy>=1.14.6 in /usr/local/lib/python3.8/dist-packages (from scikit-learn>=1.0.0->scikeras) (1.21.6)\n",
            "Requirement already satisfied: scipy>=1.1.0 in /usr/local/lib/python3.8/dist-packages (from scikit-learn>=1.0.0->scikeras) (1.7.3)\n",
            "Requirement already satisfied: joblib>=0.11 in /usr/local/lib/python3.8/dist-packages (from scikit-learn>=1.0.0->scikeras) (1.2.0)\n",
            "Requirement already satisfied: threadpoolctl>=2.0.0 in /usr/local/lib/python3.8/dist-packages (from scikit-learn>=1.0.0->scikeras) (3.1.0)\n"
          ]
        }
      ]
    },
    {
      "cell_type": "code",
      "source": [
        "from sklearn.model_selection import GridSearchCV\n",
        "from scikeras.wrappers import KerasClassifier"
      ],
      "metadata": {
        "id": "TWeQBFTs8etm"
      },
      "execution_count": 70,
      "outputs": []
    },
    {
      "cell_type": "code",
      "source": [
        "def create_model():\n",
        "  # create model\n",
        "  model = tf.keras.Sequential([\n",
        "  layers.experimental.preprocessing.Rescaling(1./255),\n",
        "  layers.Conv2D(32,(3,3), activation='relu',input_shape=(32, 32, 3)),\n",
        "\n",
        "  layers.Conv2D(32,(3,3), activation='relu'),\n",
        "  layers.MaxPooling2D((2,2)),\n",
        "  layers.Dropout(rate=0.5),\n",
        "\n",
        "  layers.Conv2D(64,(3,3), activation='relu'),\n",
        "  layers.MaxPooling2D((2,2)),\n",
        "  layers.Dropout(rate=0.5),\n",
        "    \n",
        "  layers.Flatten(),\n",
        "\n",
        "  layers.Dense(64,activation='relu'),\n",
        "  layers.Dense(num_classes, activation='softmax')\n",
        "])\n",
        "   \n",
        "\t# Compile model\n",
        "  model.compile(optimizer=tf.keras.optimizers.experimental.RMSprop(learning_rate=0.001),\n",
        "              loss=tf.losses.SparseCategoricalCrossentropy(from_logits=True),\n",
        "              metrics=['accuracy'])\n",
        "  \n",
        "  return model"
      ],
      "metadata": {
        "id": "p9feLSQP8flN"
      },
      "execution_count": 71,
      "outputs": []
    },
    {
      "cell_type": "code",
      "source": [
        "data_labels=[]\n",
        "data_images=[]\n",
        "for images, labels in train_data.unbatch():\n",
        "    data_labels.append(labels)\n",
        "    data_images.append(images)\n",
        "\n",
        "    "
      ],
      "metadata": {
        "id": "3ITd9Z7xBkW7"
      },
      "execution_count": 72,
      "outputs": []
    },
    {
      "cell_type": "code",
      "source": [
        "# fix random seed for reproducibility\n",
        "seed = 7\n",
        "tf.random.set_seed(seed)\n",
        "\n",
        "model = KerasClassifier(model=create_model, verbose=0)\n",
        "\n",
        "# define the grid search parameters\n",
        "batch_size = [10, 20, 40, 60, 80, 100]\n",
        "epochs = [10, 20, 30,40,50]\n",
        "\n",
        "param_grid = dict(batch_size=batch_size, epochs=epochs)\n",
        "\n",
        "grid = GridSearchCV(estimator=model, param_grid=param_grid, n_jobs=-1, cv=3)\n",
        "grid_result = grid.fit(data_images,data_labels)\n"
      ],
      "metadata": {
        "colab": {
          "base_uri": "https://localhost:8080/"
        },
        "id": "4aWVdQIw83dp",
        "outputId": "49492acc-2e2c-4484-ae41-07028e6073eb"
      },
      "execution_count": null,
      "outputs": [
        {
          "output_type": "stream",
          "name": "stderr",
          "text": [
            "/usr/local/lib/python3.8/dist-packages/joblib/externals/loky/process_executor.py:700: UserWarning: A worker stopped while some jobs were given to the executor. This can be caused by a too short worker timeout or by a memory leak.\n",
            "  warnings.warn(\n"
          ]
        }
      ]
    },
    {
      "cell_type": "code",
      "source": [],
      "metadata": {
        "id": "apYtpMVSCYGg"
      },
      "execution_count": null,
      "outputs": []
    },
    {
      "cell_type": "code",
      "source": [],
      "metadata": {
        "id": "RFp2q-H3Cb0n"
      },
      "execution_count": null,
      "outputs": []
    }
  ]
}